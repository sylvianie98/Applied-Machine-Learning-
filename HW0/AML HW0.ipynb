{
 "cells": [
  {
   "cell_type": "markdown",
   "metadata": {},
   "source": [
    "Q1: \n",
    "- How many features/attributes are there per sample?\n",
    "<br>There are 5 features in total, 4 numeric, predictive attributes and the class, but we will only use 4 numeric features to train data. \n",
    "<br>Attribute Information:\n",
    "   1. sepal length in cm\n",
    "   2. sepal width in cm\n",
    "   3. petal length in cm\n",
    "   4. petal width in cm\n",
    "   5. class: \n",
    "      -- Iris Setosa\n",
    "      -- Iris Versicolour\n",
    "      -- Iris Virginica\n",
    "\n",
    "\n",
    "- How many different species are there? \n",
    "<br>Three. Iris Setosa, Iris Versicolour, Iris Virginica\n",
    "\n",
    "\n",
    "- how many samples of each species did Anderson record?\n",
    "<br>50 in each of three classes."
   ]
  },
  {
   "cell_type": "markdown",
   "metadata": {},
   "source": [
    "Q2:"
   ]
  },
  {
   "cell_type": "code",
   "execution_count": 5,
   "metadata": {
    "scrolled": true
   },
   "outputs": [
    {
     "name": "stdout",
     "output_type": "stream",
     "text": [
      "[[5.1 3.5 1.4 0.2]\n",
      " [4.9 3.  1.4 0.2]\n",
      " [4.7 3.2 1.3 0.2]\n",
      " [4.6 3.1 1.5 0.2]\n",
      " [5.  3.6 1.4 0.2]\n",
      " [5.4 3.9 1.7 0.4]\n",
      " [4.6 3.4 1.4 0.3]\n",
      " [5.  3.4 1.5 0.2]\n",
      " [4.4 2.9 1.4 0.2]\n",
      " [4.9 3.1 1.5 0.1]\n",
      " [5.4 3.7 1.5 0.2]\n",
      " [4.8 3.4 1.6 0.2]\n",
      " [4.8 3.  1.4 0.1]\n",
      " [4.3 3.  1.1 0.1]\n",
      " [5.8 4.  1.2 0.2]\n",
      " [5.7 4.4 1.5 0.4]\n",
      " [5.4 3.9 1.3 0.4]\n",
      " [5.1 3.5 1.4 0.3]\n",
      " [5.7 3.8 1.7 0.3]\n",
      " [5.1 3.8 1.5 0.3]\n",
      " [5.4 3.4 1.7 0.2]\n",
      " [5.1 3.7 1.5 0.4]\n",
      " [4.6 3.6 1.  0.2]\n",
      " [5.1 3.3 1.7 0.5]\n",
      " [4.8 3.4 1.9 0.2]\n",
      " [5.  3.  1.6 0.2]\n",
      " [5.  3.4 1.6 0.4]\n",
      " [5.2 3.5 1.5 0.2]\n",
      " [5.2 3.4 1.4 0.2]\n",
      " [4.7 3.2 1.6 0.2]\n",
      " [4.8 3.1 1.6 0.2]\n",
      " [5.4 3.4 1.5 0.4]\n",
      " [5.2 4.1 1.5 0.1]\n",
      " [5.5 4.2 1.4 0.2]\n",
      " [4.9 3.1 1.5 0.1]\n",
      " [5.  3.2 1.2 0.2]\n",
      " [5.5 3.5 1.3 0.2]\n",
      " [4.9 3.1 1.5 0.1]\n",
      " [4.4 3.  1.3 0.2]\n",
      " [5.1 3.4 1.5 0.2]\n",
      " [5.  3.5 1.3 0.3]\n",
      " [4.5 2.3 1.3 0.3]\n",
      " [4.4 3.2 1.3 0.2]\n",
      " [5.  3.5 1.6 0.6]\n",
      " [5.1 3.8 1.9 0.4]\n",
      " [4.8 3.  1.4 0.3]\n",
      " [5.1 3.8 1.6 0.2]\n",
      " [4.6 3.2 1.4 0.2]\n",
      " [5.3 3.7 1.5 0.2]\n",
      " [5.  3.3 1.4 0.2]\n",
      " [7.  3.2 4.7 1.4]\n",
      " [6.4 3.2 4.5 1.5]\n",
      " [6.9 3.1 4.9 1.5]\n",
      " [5.5 2.3 4.  1.3]\n",
      " [6.5 2.8 4.6 1.5]\n",
      " [5.7 2.8 4.5 1.3]\n",
      " [6.3 3.3 4.7 1.6]\n",
      " [4.9 2.4 3.3 1. ]\n",
      " [6.6 2.9 4.6 1.3]\n",
      " [5.2 2.7 3.9 1.4]\n",
      " [5.  2.  3.5 1. ]\n",
      " [5.9 3.  4.2 1.5]\n",
      " [6.  2.2 4.  1. ]\n",
      " [6.1 2.9 4.7 1.4]\n",
      " [5.6 2.9 3.6 1.3]\n",
      " [6.7 3.1 4.4 1.4]\n",
      " [5.6 3.  4.5 1.5]\n",
      " [5.8 2.7 4.1 1. ]\n",
      " [6.2 2.2 4.5 1.5]\n",
      " [5.6 2.5 3.9 1.1]\n",
      " [5.9 3.2 4.8 1.8]\n",
      " [6.1 2.8 4.  1.3]\n",
      " [6.3 2.5 4.9 1.5]\n",
      " [6.1 2.8 4.7 1.2]\n",
      " [6.4 2.9 4.3 1.3]\n",
      " [6.6 3.  4.4 1.4]\n",
      " [6.8 2.8 4.8 1.4]\n",
      " [6.7 3.  5.  1.7]\n",
      " [6.  2.9 4.5 1.5]\n",
      " [5.7 2.6 3.5 1. ]\n",
      " [5.5 2.4 3.8 1.1]\n",
      " [5.5 2.4 3.7 1. ]\n",
      " [5.8 2.7 3.9 1.2]\n",
      " [6.  2.7 5.1 1.6]\n",
      " [5.4 3.  4.5 1.5]\n",
      " [6.  3.4 4.5 1.6]\n",
      " [6.7 3.1 4.7 1.5]\n",
      " [6.3 2.3 4.4 1.3]\n",
      " [5.6 3.  4.1 1.3]\n",
      " [5.5 2.5 4.  1.3]\n",
      " [5.5 2.6 4.4 1.2]\n",
      " [6.1 3.  4.6 1.4]\n",
      " [5.8 2.6 4.  1.2]\n",
      " [5.  2.3 3.3 1. ]\n",
      " [5.6 2.7 4.2 1.3]\n",
      " [5.7 3.  4.2 1.2]\n",
      " [5.7 2.9 4.2 1.3]\n",
      " [6.2 2.9 4.3 1.3]\n",
      " [5.1 2.5 3.  1.1]\n",
      " [5.7 2.8 4.1 1.3]\n",
      " [6.3 3.3 6.  2.5]\n",
      " [5.8 2.7 5.1 1.9]\n",
      " [7.1 3.  5.9 2.1]\n",
      " [6.3 2.9 5.6 1.8]\n",
      " [6.5 3.  5.8 2.2]\n",
      " [7.6 3.  6.6 2.1]\n",
      " [4.9 2.5 4.5 1.7]\n",
      " [7.3 2.9 6.3 1.8]\n",
      " [6.7 2.5 5.8 1.8]\n",
      " [7.2 3.6 6.1 2.5]\n",
      " [6.5 3.2 5.1 2. ]\n",
      " [6.4 2.7 5.3 1.9]\n",
      " [6.8 3.  5.5 2.1]\n",
      " [5.7 2.5 5.  2. ]\n",
      " [5.8 2.8 5.1 2.4]\n",
      " [6.4 3.2 5.3 2.3]\n",
      " [6.5 3.  5.5 1.8]\n",
      " [7.7 3.8 6.7 2.2]\n",
      " [7.7 2.6 6.9 2.3]\n",
      " [6.  2.2 5.  1.5]\n",
      " [6.9 3.2 5.7 2.3]\n",
      " [5.6 2.8 4.9 2. ]\n",
      " [7.7 2.8 6.7 2. ]\n",
      " [6.3 2.7 4.9 1.8]\n",
      " [6.7 3.3 5.7 2.1]\n",
      " [7.2 3.2 6.  1.8]\n",
      " [6.2 2.8 4.8 1.8]\n",
      " [6.1 3.  4.9 1.8]\n",
      " [6.4 2.8 5.6 2.1]\n",
      " [7.2 3.  5.8 1.6]\n",
      " [7.4 2.8 6.1 1.9]\n",
      " [7.9 3.8 6.4 2. ]\n",
      " [6.4 2.8 5.6 2.2]\n",
      " [6.3 2.8 5.1 1.5]\n",
      " [6.1 2.6 5.6 1.4]\n",
      " [7.7 3.  6.1 2.3]\n",
      " [6.3 3.4 5.6 2.4]\n",
      " [6.4 3.1 5.5 1.8]\n",
      " [6.  3.  4.8 1.8]\n",
      " [6.9 3.1 5.4 2.1]\n",
      " [6.7 3.1 5.6 2.4]\n",
      " [6.9 3.1 5.1 2.3]\n",
      " [5.8 2.7 5.1 1.9]\n",
      " [6.8 3.2 5.9 2.3]\n",
      " [6.7 3.3 5.7 2.5]\n",
      " [6.7 3.  5.2 2.3]\n",
      " [6.3 2.5 5.  1.9]\n",
      " [6.5 3.  5.2 2. ]\n",
      " [6.2 3.4 5.4 2.3]\n",
      " [5.9 3.  5.1 1.8]]\n",
      "[['Iris-setosa']\n",
      " ['Iris-setosa']\n",
      " ['Iris-setosa']\n",
      " ['Iris-setosa']\n",
      " ['Iris-setosa']\n",
      " ['Iris-setosa']\n",
      " ['Iris-setosa']\n",
      " ['Iris-setosa']\n",
      " ['Iris-setosa']\n",
      " ['Iris-setosa']\n",
      " ['Iris-setosa']\n",
      " ['Iris-setosa']\n",
      " ['Iris-setosa']\n",
      " ['Iris-setosa']\n",
      " ['Iris-setosa']\n",
      " ['Iris-setosa']\n",
      " ['Iris-setosa']\n",
      " ['Iris-setosa']\n",
      " ['Iris-setosa']\n",
      " ['Iris-setosa']\n",
      " ['Iris-setosa']\n",
      " ['Iris-setosa']\n",
      " ['Iris-setosa']\n",
      " ['Iris-setosa']\n",
      " ['Iris-setosa']\n",
      " ['Iris-setosa']\n",
      " ['Iris-setosa']\n",
      " ['Iris-setosa']\n",
      " ['Iris-setosa']\n",
      " ['Iris-setosa']\n",
      " ['Iris-setosa']\n",
      " ['Iris-setosa']\n",
      " ['Iris-setosa']\n",
      " ['Iris-setosa']\n",
      " ['Iris-setosa']\n",
      " ['Iris-setosa']\n",
      " ['Iris-setosa']\n",
      " ['Iris-setosa']\n",
      " ['Iris-setosa']\n",
      " ['Iris-setosa']\n",
      " ['Iris-setosa']\n",
      " ['Iris-setosa']\n",
      " ['Iris-setosa']\n",
      " ['Iris-setosa']\n",
      " ['Iris-setosa']\n",
      " ['Iris-setosa']\n",
      " ['Iris-setosa']\n",
      " ['Iris-setosa']\n",
      " ['Iris-setosa']\n",
      " ['Iris-setosa']\n",
      " ['Iris-versicolor']\n",
      " ['Iris-versicolor']\n",
      " ['Iris-versicolor']\n",
      " ['Iris-versicolor']\n",
      " ['Iris-versicolor']\n",
      " ['Iris-versicolor']\n",
      " ['Iris-versicolor']\n",
      " ['Iris-versicolor']\n",
      " ['Iris-versicolor']\n",
      " ['Iris-versicolor']\n",
      " ['Iris-versicolor']\n",
      " ['Iris-versicolor']\n",
      " ['Iris-versicolor']\n",
      " ['Iris-versicolor']\n",
      " ['Iris-versicolor']\n",
      " ['Iris-versicolor']\n",
      " ['Iris-versicolor']\n",
      " ['Iris-versicolor']\n",
      " ['Iris-versicolor']\n",
      " ['Iris-versicolor']\n",
      " ['Iris-versicolor']\n",
      " ['Iris-versicolor']\n",
      " ['Iris-versicolor']\n",
      " ['Iris-versicolor']\n",
      " ['Iris-versicolor']\n",
      " ['Iris-versicolor']\n",
      " ['Iris-versicolor']\n",
      " ['Iris-versicolor']\n",
      " ['Iris-versicolor']\n",
      " ['Iris-versicolor']\n",
      " ['Iris-versicolor']\n",
      " ['Iris-versicolor']\n",
      " ['Iris-versicolor']\n",
      " ['Iris-versicolor']\n",
      " ['Iris-versicolor']\n",
      " ['Iris-versicolor']\n",
      " ['Iris-versicolor']\n",
      " ['Iris-versicolor']\n",
      " ['Iris-versicolor']\n",
      " ['Iris-versicolor']\n",
      " ['Iris-versicolor']\n",
      " ['Iris-versicolor']\n",
      " ['Iris-versicolor']\n",
      " ['Iris-versicolor']\n",
      " ['Iris-versicolor']\n",
      " ['Iris-versicolor']\n",
      " ['Iris-versicolor']\n",
      " ['Iris-versicolor']\n",
      " ['Iris-versicolor']\n",
      " ['Iris-versicolor']\n",
      " ['Iris-virginica']\n",
      " ['Iris-virginica']\n",
      " ['Iris-virginica']\n",
      " ['Iris-virginica']\n",
      " ['Iris-virginica']\n",
      " ['Iris-virginica']\n",
      " ['Iris-virginica']\n",
      " ['Iris-virginica']\n",
      " ['Iris-virginica']\n",
      " ['Iris-virginica']\n",
      " ['Iris-virginica']\n",
      " ['Iris-virginica']\n",
      " ['Iris-virginica']\n",
      " ['Iris-virginica']\n",
      " ['Iris-virginica']\n",
      " ['Iris-virginica']\n",
      " ['Iris-virginica']\n",
      " ['Iris-virginica']\n",
      " ['Iris-virginica']\n",
      " ['Iris-virginica']\n",
      " ['Iris-virginica']\n",
      " ['Iris-virginica']\n",
      " ['Iris-virginica']\n",
      " ['Iris-virginica']\n",
      " ['Iris-virginica']\n",
      " ['Iris-virginica']\n",
      " ['Iris-virginica']\n",
      " ['Iris-virginica']\n",
      " ['Iris-virginica']\n",
      " ['Iris-virginica']\n",
      " ['Iris-virginica']\n",
      " ['Iris-virginica']\n",
      " ['Iris-virginica']\n",
      " ['Iris-virginica']\n",
      " ['Iris-virginica']\n",
      " ['Iris-virginica']\n",
      " ['Iris-virginica']\n",
      " ['Iris-virginica']\n",
      " ['Iris-virginica']\n",
      " ['Iris-virginica']\n",
      " ['Iris-virginica']\n",
      " ['Iris-virginica']\n",
      " ['Iris-virginica']\n",
      " ['Iris-virginica']\n",
      " ['Iris-virginica']\n",
      " ['Iris-virginica']\n",
      " ['Iris-virginica']\n",
      " ['Iris-virginica']\n",
      " ['Iris-virginica']\n",
      " ['Iris-virginica']]\n"
     ]
    }
   ],
   "source": [
    "import pandas as pd \n",
    "import numpy as np \n",
    "\n",
    "iris = pd.read_csv(\"/Users/sylvia/Desktop/AML/iris.csv\", header = None, names = ['Sepal length','Sepal width','Petal length','Petal width','Iris class']) \n",
    "iris_feature = iris.iloc[:,0:4]\n",
    "iris_class = iris.iloc[:,4:5]\n",
    "iris_feature = iris_feature.to_numpy()\n",
    "iris_class = iris_class.to_numpy()\n",
    "#iris_feature.shape\n",
    "#iris_class.shape\n",
    "print(iris_feature)\n",
    "print(iris_class)"
   ]
  },
  {
   "cell_type": "markdown",
   "metadata": {},
   "source": [
    "Q3"
   ]
  },
  {
   "cell_type": "code",
   "execution_count": 5,
   "metadata": {},
   "outputs": [
    {
     "data": {
      "image/png": "[encoded data removed]",
      "text/plain": [
       "<Figure size 432x288 with 1 Axes>"
      ]
     },
     "metadata": {
      "needs_background": "light"
     },
     "output_type": "display_data"
    }
   ],
   "source": [
    "from matplotlib import pyplot as plt\n",
    "import numpy\n",
    "\n",
    "#Sepal length vs Sepal width\n",
    "xs = iris_feature[:,0:1]\n",
    "ys = iris_feature[:,1:2]\n",
    "plt.scatter (xs , ys )\n",
    "plt.title(\"Sepal length vs Sepal width\")\n",
    "plt.xlabel(\"Sepal_length_cm\")\n",
    "plt.ylabel(\"Sepal_width_cm\")\n",
    "plt.show()"
   ]
  },
  {
   "cell_type": "code",
   "execution_count": 6,
   "metadata": {},
   "outputs": [
    {
     "data": {
      "image/png": "[encoded data removed]",
      "text/plain": [
       "<Figure size 432x288 with 1 Axes>"
      ]
     },
     "metadata": {
      "needs_background": "light"
     },
     "output_type": "display_data"
    }
   ],
   "source": [
    "#Sepal length vs Petal length\n",
    "xs = iris_feature[:,0:1]\n",
    "ys = iris_feature[:,2:3]\n",
    "plt.scatter (xs , ys) \n",
    "plt.title(\"Sepal length vs Petal length\")\n",
    "plt.xlabel(\"Sepal_length_cm\")\n",
    "plt.ylabel(\"Petal_length_cm\")\n",
    "plt.show()"
   ]
  },
  {
   "cell_type": "code",
   "execution_count": 7,
   "metadata": {},
   "outputs": [
    {
     "data": {
      "image/png": "[encoded data removed]",
      "text/plain": [
       "<Figure size 432x288 with 1 Axes>"
      ]
     },
     "metadata": {
      "needs_background": "light"
     },
     "output_type": "display_data"
    }
   ],
   "source": [
    "#Sepal length vs Petal width\n",
    "xs = iris_feature[:,0:1]\n",
    "ys = iris_feature[:,3:4]\n",
    "plt.scatter (xs , ys)\n",
    "plt.title(\"Sepal length vs Petal width\")\n",
    "plt.xlabel(\"Sepal_length_cm\")\n",
    "plt.ylabel(\"Petal_width_cm\")\n",
    "plt.show()"
   ]
  },
  {
   "cell_type": "code",
   "execution_count": 8,
   "metadata": {},
   "outputs": [
    {
     "data": {
      "image/png": "[encoded data removed]",
      "text/plain": [
       "<Figure size 432x288 with 1 Axes>"
      ]
     },
     "metadata": {
      "needs_background": "light"
     },
     "output_type": "display_data"
    }
   ],
   "source": [
    "#Sepal width vs Petal length\n",
    "xs = iris_feature[:,1:2]\n",
    "ys = iris_feature[:,2:3]\n",
    "plt.scatter (xs , ys) \n",
    "plt.title(\"Sepal width vs Petal length\")\n",
    "plt.xlabel(\"Sepal_width_cm\")\n",
    "plt.ylabel(\"Petal_length_cm\")\n",
    "plt.show()"
   ]
  },
  {
   "cell_type": "code",
   "execution_count": 9,
   "metadata": {},
   "outputs": [
    {
     "data": {
      "image/png": "[encoded data removed]",
      "text/plain": [
       "<Figure size 432x288 with 1 Axes>"
      ]
     },
     "metadata": {
      "needs_background": "light"
     },
     "output_type": "display_data"
    }
   ],
   "source": [
    "#Sepal width vs Petal width\n",
    "xs = iris_feature[:,1:2]\n",
    "ys = iris_feature[:,3:4]\n",
    "plt.scatter (xs , ys) \n",
    "plt.title(\"Sepal width vs Petal width\")\n",
    "plt.xlabel(\"Sepal_width_cm\")\n",
    "plt.ylabel(\"Petal_width_cm\")\n",
    "plt.show()"
   ]
  },
  {
   "cell_type": "code",
   "execution_count": 10,
   "metadata": {},
   "outputs": [
    {
     "data": {
      "image/png": "[encoded data removed]",
      "text/plain": [
       "<Figure size 432x288 with 1 Axes>"
      ]
     },
     "metadata": {
      "needs_background": "light"
     },
     "output_type": "display_data"
    }
   ],
   "source": [
    "#Petal length vs Petal width\n",
    "xs = iris_feature[:,2:3]\n",
    "ys = iris_feature[:,3:4]\n",
    "plt.scatter (xs , ys)\n",
    "plt.title(\"Petal length vs Petal width\")\n",
    "plt.xlabel(\"Petal_length_cm\")\n",
    "plt.ylabel(\"Petal_width_cm\")\n",
    "plt.show()"
   ]
  }
 ],
 "metadata": {
  "kernelspec": {
   "display_name": "Python 3",
   "language": "python",
   "name": "python3"
  },
  "language_info": {
   "codemirror_mode": {
    "name": "ipython",
    "version": 3
   },
   "file_extension": ".py",
   "mimetype": "text/x-python",
   "name": "python",
   "nbconvert_exporter": "python",
   "pygments_lexer": "ipython3",
   "version": "3.7.4"
  }
 },
 "nbformat": 4,
 "nbformat_minor": 2
}
