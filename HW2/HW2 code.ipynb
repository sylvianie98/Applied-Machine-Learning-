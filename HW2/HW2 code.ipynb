{
 "cells": [
  {
   "cell_type": "markdown",
   "metadata": {},
   "source": [
    "# Q1"
   ]
  },
  {
   "cell_type": "code",
   "execution_count": 1,
   "metadata": {},
   "outputs": [
    {
     "name": "stderr",
     "output_type": "stream",
     "text": [
      "[nltk_data] Downloading package punkt to /Users/sylvia/nltk_data...\n",
      "[nltk_data]   Package punkt is already up-to-date!\n",
      "[nltk_data] Downloading package wordnet to /Users/sylvia/nltk_data...\n",
      "[nltk_data]   Package wordnet is already up-to-date!\n",
      "[nltk_data] Downloading package stopwords to\n",
      "[nltk_data]     /Users/sylvia/nltk_data...\n",
      "[nltk_data]   Package stopwords is already up-to-date!\n",
      "[nltk_data] Downloading package averaged_perceptron_tagger to\n",
      "[nltk_data]     /Users/sylvia/nltk_data...\n",
      "[nltk_data]   Package averaged_perceptron_tagger is already up-to-\n",
      "[nltk_data]       date!\n"
     ]
    }
   ],
   "source": [
    "import pandas as pd\n",
    "import numpy as np\n",
    "import matplotlib.pyplot as plt\n",
    "import string \n",
    "import seaborn as sns\n",
    "\n",
    "import nltk\n",
    "nltk.download('punkt')\n",
    "nltk.download('wordnet')\n",
    "nltk.download('stopwords')\n",
    "nltk.download('averaged_perceptron_tagger')\n",
    "from nltk.corpus import stopwords\n",
    "from nltk.tokenize import word_tokenize\n",
    "from nltk.stem.wordnet import WordNetLemmatizer\n",
    "from nltk.corpus import wordnet\n",
    "\n",
    "import sklearn\n",
    "from sklearn.svm import LinearSVC\n",
    "from sklearn.svm import SVC\n",
    "from sklearn.feature_extraction.text import CountVectorizer, TfidfVectorizer\n",
    "from sklearn.linear_model import LogisticRegression\n",
    "from sklearn.metrics import f1_score\n",
    "from sklearn.model_selection import train_test_split\n"
   ]
  },
  {
   "cell_type": "markdown",
   "metadata": {},
   "source": [
    "# a) Download the data.\n",
    "1)     \n",
    "In the train data, number of row is 7613 and number of column is 5, so total data points is 38065.     \n",
    "In the test data, number of row is 3263 and number of column is 4, so total data points is 13052.    \n",
    "2)    \n",
    "There are 42.97 % of the training tweets are of real disasters, and 57.03 % of training tweets are not"
   ]
  },
  {
   "cell_type": "code",
   "execution_count": 2,
   "metadata": {},
   "outputs": [
    {
     "name": "stdout",
     "output_type": "stream",
     "text": [
      "In the train data, number of row is 7613 and number of column is 5, so total data points is 7613. \n",
      "In the test data, number of row is 3263 and number of column is 4, so total data points is 3263. \n"
     ]
    }
   ],
   "source": [
    "df_train = pd.read_csv('train.csv', dtype={'id': np.int16, 'target': np.int8})\n",
    "df_test = pd.read_csv('test.csv', dtype={'id': np.int16})\n",
    "print('In the train data, number of row is {} and number of column is {}, so total data points is {}. '.format(df_train.shape[0],df_train.shape[1],df_train.shape[0]))\n",
    "print('In the test data, number of row is {} and number of column is {}, so total data points is {}. '.format(df_test.shape[0],df_test.shape[1],df_test.shape[0]))"
   ]
  },
  {
   "cell_type": "code",
   "execution_count": 3,
   "metadata": {},
   "outputs": [
    {
     "name": "stdout",
     "output_type": "stream",
     "text": [
      "0    4342\n",
      "1    3271\n",
      "Name: target, dtype: int64\n",
      "There are 42.97 % of the training tweets are of real disasters, and 57.03 % of training tweets are not \n"
     ]
    }
   ],
   "source": [
    "print(df_train.loc[:,'target'].value_counts())\n",
    "real_pct = float(3271/df_train.shape[0])\n",
    "notreal_pct = float(4342/df_train.shape[0])\n",
    "print('There are {} % of the training tweets are of real disasters, and {} % of training tweets are not '.format(round(real_pct*100,2),round(notreal_pct*100,2)))"
   ]
  },
  {
   "cell_type": "markdown",
   "metadata": {},
   "source": [
    "# b) Split the training data."
   ]
  },
  {
   "cell_type": "code",
   "execution_count": 4,
   "metadata": {},
   "outputs": [
    {
     "name": "stdout",
     "output_type": "stream",
     "text": [
      "(5329, 5)\n",
      "(2284, 5)\n"
     ]
    }
   ],
   "source": [
    "train, dev = train_test_split(df_train, test_size=0.3, random_state=42)\n",
    "print(train.shape)\n",
    "print(dev.shape)"
   ]
  },
  {
   "cell_type": "markdown",
   "metadata": {},
   "source": [
    "# c)   Preprocess the Data.\n",
    "• Convert all the words to lowercase.  \n",
    "we want to do it, since it will facilitate the future search of words"
   ]
  },
  {
   "cell_type": "code",
   "execution_count": 5,
   "metadata": {},
   "outputs": [],
   "source": [
    "train = train.applymap(lambda s:s.lower() if type(s) == str else s)\n",
    "dev = dev.applymap(lambda s:s.lower() if type(s) == str else s)"
   ]
  },
  {
   "cell_type": "markdown",
   "metadata": {},
   "source": [
    "• Lemmatize all the words (i.e.,convert every word to its root so that all of “running,”“run,” and “runs” are converted to “run” and and all of “good,” “well,” “better,” and “best” are converted to “good”; this is easily done using nltk.stem).      \n",
    "we want to do it, since we need the meaning of words regardless of the gramma or status will not affect the meanning of words, so this process facilitate the future process of words by eliminate the same meanning of words. \n"
   ]
  },
  {
   "cell_type": "code",
   "execution_count": 6,
   "metadata": {},
   "outputs": [],
   "source": [
    "lemmatizer = nltk.stem.WordNetLemmatizer()\n",
    "wordnet_lemmatizer = WordNetLemmatizer()\n",
    "\n",
    "\n",
    "def nltk_tag_to_wordnet_tag(nltk_tag):\n",
    "    if nltk_tag.startswith('J'):\n",
    "        return wordnet.ADJ\n",
    "    elif nltk_tag.startswith('V'):\n",
    "        return wordnet.VERB\n",
    "    elif nltk_tag.startswith('N'):\n",
    "        return wordnet.NOUN\n",
    "    elif nltk_tag.startswith('R'):\n",
    "        return wordnet.ADV\n",
    "    else:\n",
    "        return None\n",
    "\n",
    "def lemmatize_sentence(sentence):\n",
    "    nltk_tagged = nltk.pos_tag(nltk.word_tokenize(sentence))\n",
    "    wordnet_tagged = map(lambda x: (x[0], nltk_tag_to_wordnet_tag(x[1])), nltk_tagged)\n",
    "    lemmatized_sentence = []\n",
    "    for word, tag in wordnet_tagged:\n",
    "        if tag is None:\n",
    "            lemmatized_sentence.append(word)\n",
    "        else:\n",
    "            lemmatized_sentence.append(lemmatizer.lemmatize(word, tag))\n",
    "    return \" \".join(lemmatized_sentence)\n",
    "\n",
    "train['Lemmatize'] = train['text'].apply(lambda x: lemmatize_sentence(x))\n",
    "dev['Lemmatize'] = dev['text'].apply(lambda x: lemmatize_sentence(x))"
   ]
  },
  {
   "cell_type": "markdown",
   "metadata": {},
   "source": [
    "• Strip punctuation.  \n",
    "we want to do it, since punctuation will not affect the analysis of key words and eliminate it will facilitate future analyze. "
   ]
  },
  {
   "cell_type": "code",
   "execution_count": 7,
   "metadata": {},
   "outputs": [],
   "source": [
    "def no_punctuations(text):\n",
    "    for punctuation in string.punctuation:\n",
    "        text = text.replace(punctuation, '')\n",
    "    return text\n",
    "train[\"no_punctuations\"] = train['Lemmatize'].apply(no_punctuations)\n",
    "dev[\"no_punctuations\"] = dev['Lemmatize'].apply(no_punctuations)"
   ]
  },
  {
   "cell_type": "markdown",
   "metadata": {},
   "source": [
    "• Strip the stop words,e.g.,“the”,“and”,“or”.   \n",
    "we want to do it, since we don't need stop words to define the meaning of sentence, so this process will facilitate the future process of analysis and save time for computing. "
   ]
  },
  {
   "cell_type": "code",
   "execution_count": 8,
   "metadata": {},
   "outputs": [
    {
     "data": {
      "text/html": [
       "<div>\n",
       "<style scoped>\n",
       "    .dataframe tbody tr th:only-of-type {\n",
       "        vertical-align: middle;\n",
       "    }\n",
       "\n",
       "    .dataframe tbody tr th {\n",
       "        vertical-align: top;\n",
       "    }\n",
       "\n",
       "    .dataframe thead th {\n",
       "        text-align: right;\n",
       "    }\n",
       "</style>\n",
       "<table border=\"1\" class=\"dataframe\">\n",
       "  <thead>\n",
       "    <tr style=\"text-align: right;\">\n",
       "      <th></th>\n",
       "      <th>id</th>\n",
       "      <th>keyword</th>\n",
       "      <th>location</th>\n",
       "      <th>text</th>\n",
       "      <th>target</th>\n",
       "      <th>Lemmatize</th>\n",
       "      <th>no_punctuations</th>\n",
       "      <th>preprocessed_text</th>\n",
       "    </tr>\n",
       "  </thead>\n",
       "  <tbody>\n",
       "    <tr>\n",
       "      <td>1186</td>\n",
       "      <td>1707</td>\n",
       "      <td>bridge%20collapse</td>\n",
       "      <td>NaN</td>\n",
       "      <td>ashes 2015: australiaûªs collapse at trent br...</td>\n",
       "      <td>0</td>\n",
       "      <td>ash 2015 : australiaûªs collapse at trent bri...</td>\n",
       "      <td>ash 2015  australiaûªs collapse at trent brid...</td>\n",
       "      <td>ash 2015 australiaûªs collapse trent bridge a...</td>\n",
       "    </tr>\n",
       "    <tr>\n",
       "      <td>4071</td>\n",
       "      <td>5789</td>\n",
       "      <td>hail</td>\n",
       "      <td>carol stream, illinois</td>\n",
       "      <td>great michigan technique camp\\nb1g thanks to @...</td>\n",
       "      <td>1</td>\n",
       "      <td>great michigan technique camp b1g thanks to @ ...</td>\n",
       "      <td>great michigan technique camp b1g thanks to  b...</td>\n",
       "      <td>great michigan technique camp b1g thanks bmurp...</td>\n",
       "    </tr>\n",
       "    <tr>\n",
       "      <td>5461</td>\n",
       "      <td>7789</td>\n",
       "      <td>police</td>\n",
       "      <td>houston</td>\n",
       "      <td>cnn: tennessee movie theater shooting suspect ...</td>\n",
       "      <td>1</td>\n",
       "      <td>cnn : tennessee movie theater shoot suspect ki...</td>\n",
       "      <td>cnn  tennessee movie theater shoot suspect kil...</td>\n",
       "      <td>cnn tennessee movie theater shoot suspect kill...</td>\n",
       "    </tr>\n",
       "    <tr>\n",
       "      <td>5787</td>\n",
       "      <td>8257</td>\n",
       "      <td>rioting</td>\n",
       "      <td>NaN</td>\n",
       "      <td>still rioting in a couple of hours left until ...</td>\n",
       "      <td>1</td>\n",
       "      <td>still riot in a couple of hour leave until i h...</td>\n",
       "      <td>still riot in a couple of hour leave until i h...</td>\n",
       "      <td>still riot couple hour leave class</td>\n",
       "    </tr>\n",
       "    <tr>\n",
       "      <td>7445</td>\n",
       "      <td>10656</td>\n",
       "      <td>wounds</td>\n",
       "      <td>lake highlands</td>\n",
       "      <td>crack in the path where i wiped out this morni...</td>\n",
       "      <td>0</td>\n",
       "      <td>crack in the path where i wipe out this mornin...</td>\n",
       "      <td>crack in the path where i wipe out this mornin...</td>\n",
       "      <td>crack path wipe morning beach run surface woun...</td>\n",
       "    </tr>\n",
       "  </tbody>\n",
       "</table>\n",
       "</div>"
      ],
      "text/plain": [
       "         id            keyword                location  \\\n",
       "1186   1707  bridge%20collapse                     NaN   \n",
       "4071   5789               hail  carol stream, illinois   \n",
       "5461   7789             police                houston    \n",
       "5787   8257            rioting                     NaN   \n",
       "7445  10656             wounds          lake highlands   \n",
       "\n",
       "                                                   text  target  \\\n",
       "1186  ashes 2015: australiaûªs collapse at trent br...       0   \n",
       "4071  great michigan technique camp\\nb1g thanks to @...       1   \n",
       "5461  cnn: tennessee movie theater shooting suspect ...       1   \n",
       "5787  still rioting in a couple of hours left until ...       1   \n",
       "7445  crack in the path where i wiped out this morni...       0   \n",
       "\n",
       "                                              Lemmatize  \\\n",
       "1186  ash 2015 : australiaûªs collapse at trent bri...   \n",
       "4071  great michigan technique camp b1g thanks to @ ...   \n",
       "5461  cnn : tennessee movie theater shoot suspect ki...   \n",
       "5787  still riot in a couple of hour leave until i h...   \n",
       "7445  crack in the path where i wipe out this mornin...   \n",
       "\n",
       "                                        no_punctuations  \\\n",
       "1186  ash 2015  australiaûªs collapse at trent brid...   \n",
       "4071  great michigan technique camp b1g thanks to  b...   \n",
       "5461  cnn  tennessee movie theater shoot suspect kil...   \n",
       "5787  still riot in a couple of hour leave until i h...   \n",
       "7445  crack in the path where i wipe out this mornin...   \n",
       "\n",
       "                                      preprocessed_text  \n",
       "1186  ash 2015 australiaûªs collapse trent bridge a...  \n",
       "4071  great michigan technique camp b1g thanks bmurp...  \n",
       "5461  cnn tennessee movie theater shoot suspect kill...  \n",
       "5787                 still riot couple hour leave class  \n",
       "7445  crack path wipe morning beach run surface woun...  "
      ]
     },
     "execution_count": 8,
     "metadata": {},
     "output_type": "execute_result"
    }
   ],
   "source": [
    "stop = stopwords.words('english')\n",
    "train['preprocessed_text'] = train['no_punctuations'].apply(lambda x: ' '.join([word for word in x.split() if word not in (stop)]))\n",
    "dev['preprocessed_text'] = dev['no_punctuations'].apply(lambda x: ' '.join([word for word in x.split() if word not in (stop)]))\n",
    "# train['preprocessed_text'] = train['preprocessed_text'].apply(lambda x: x.split())\n",
    "# dev['preprocessed_text'] = train['preprocessed_text'].apply(lambda x: x.split())\n",
    "train.head()"
   ]
  },
  {
   "cell_type": "code",
   "execution_count": 9,
   "metadata": {},
   "outputs": [
    {
     "data": {
      "text/html": [
       "<div>\n",
       "<style scoped>\n",
       "    .dataframe tbody tr th:only-of-type {\n",
       "        vertical-align: middle;\n",
       "    }\n",
       "\n",
       "    .dataframe tbody tr th {\n",
       "        vertical-align: top;\n",
       "    }\n",
       "\n",
       "    .dataframe thead th {\n",
       "        text-align: right;\n",
       "    }\n",
       "</style>\n",
       "<table border=\"1\" class=\"dataframe\">\n",
       "  <thead>\n",
       "    <tr style=\"text-align: right;\">\n",
       "      <th></th>\n",
       "      <th>id</th>\n",
       "      <th>keyword</th>\n",
       "      <th>location</th>\n",
       "      <th>text</th>\n",
       "      <th>target</th>\n",
       "      <th>Lemmatize</th>\n",
       "      <th>no_punctuations</th>\n",
       "      <th>preprocessed_text</th>\n",
       "    </tr>\n",
       "  </thead>\n",
       "  <tbody>\n",
       "    <tr>\n",
       "      <td>2644</td>\n",
       "      <td>3796</td>\n",
       "      <td>destruction</td>\n",
       "      <td>NaN</td>\n",
       "      <td>so you have a new weapon that can cause un-ima...</td>\n",
       "      <td>1</td>\n",
       "      <td>so you have a new weapon that can cause un-ima...</td>\n",
       "      <td>so you have a new weapon that can cause unimag...</td>\n",
       "      <td>new weapon cause unimaginable destruction</td>\n",
       "    </tr>\n",
       "    <tr>\n",
       "      <td>2227</td>\n",
       "      <td>3185</td>\n",
       "      <td>deluge</td>\n",
       "      <td>NaN</td>\n",
       "      <td>the f$&amp;amp;@ing things i do for #gishwhes just...</td>\n",
       "      <td>0</td>\n",
       "      <td>the f $ &amp; amp ; @ ing thing i do for # gishwhe...</td>\n",
       "      <td>the f   amp   ing thing i do for  gishwhes jus...</td>\n",
       "      <td>f amp ing thing gishwhes get soak deluge go pa...</td>\n",
       "    </tr>\n",
       "    <tr>\n",
       "      <td>5448</td>\n",
       "      <td>7769</td>\n",
       "      <td>police</td>\n",
       "      <td>uk</td>\n",
       "      <td>dt @georgegalloway: rt @galloway4mayor: ûïthe...</td>\n",
       "      <td>1</td>\n",
       "      <td>dt @ georgegalloway : rt @ galloway4mayor : û...</td>\n",
       "      <td>dt  georgegalloway  rt  galloway4mayor  ûïthe...</td>\n",
       "      <td>dt georgegalloway rt galloway4mayor ûïthe col...</td>\n",
       "    </tr>\n",
       "    <tr>\n",
       "      <td>132</td>\n",
       "      <td>191</td>\n",
       "      <td>aftershock</td>\n",
       "      <td>NaN</td>\n",
       "      <td>aftershock back to school kick off was great. ...</td>\n",
       "      <td>0</td>\n",
       "      <td>aftershock back to school kick off be great . ...</td>\n",
       "      <td>aftershock back to school kick off be great  i...</td>\n",
       "      <td>aftershock back school kick great want thank e...</td>\n",
       "    </tr>\n",
       "    <tr>\n",
       "      <td>6845</td>\n",
       "      <td>9810</td>\n",
       "      <td>trauma</td>\n",
       "      <td>montgomery county, md</td>\n",
       "      <td>in response to trauma children of addicts deve...</td>\n",
       "      <td>0</td>\n",
       "      <td>in response to trauma child of addict develop ...</td>\n",
       "      <td>in response to trauma child of addict develop ...</td>\n",
       "      <td>response trauma child addict develop defensive...</td>\n",
       "    </tr>\n",
       "  </tbody>\n",
       "</table>\n",
       "</div>"
      ],
      "text/plain": [
       "        id      keyword               location  \\\n",
       "2644  3796  destruction                    NaN   \n",
       "2227  3185       deluge                    NaN   \n",
       "5448  7769       police                     uk   \n",
       "132    191   aftershock                    NaN   \n",
       "6845  9810       trauma  montgomery county, md   \n",
       "\n",
       "                                                   text  target  \\\n",
       "2644  so you have a new weapon that can cause un-ima...       1   \n",
       "2227  the f$&amp;@ing things i do for #gishwhes just...       0   \n",
       "5448  dt @georgegalloway: rt @galloway4mayor: ûïthe...       1   \n",
       "132   aftershock back to school kick off was great. ...       0   \n",
       "6845  in response to trauma children of addicts deve...       0   \n",
       "\n",
       "                                              Lemmatize  \\\n",
       "2644  so you have a new weapon that can cause un-ima...   \n",
       "2227  the f $ & amp ; @ ing thing i do for # gishwhe...   \n",
       "5448  dt @ georgegalloway : rt @ galloway4mayor : û...   \n",
       "132   aftershock back to school kick off be great . ...   \n",
       "6845  in response to trauma child of addict develop ...   \n",
       "\n",
       "                                        no_punctuations  \\\n",
       "2644  so you have a new weapon that can cause unimag...   \n",
       "2227  the f   amp   ing thing i do for  gishwhes jus...   \n",
       "5448  dt  georgegalloway  rt  galloway4mayor  ûïthe...   \n",
       "132   aftershock back to school kick off be great  i...   \n",
       "6845  in response to trauma child of addict develop ...   \n",
       "\n",
       "                                      preprocessed_text  \n",
       "2644          new weapon cause unimaginable destruction  \n",
       "2227  f amp ing thing gishwhes get soak deluge go pa...  \n",
       "5448  dt georgegalloway rt galloway4mayor ûïthe col...  \n",
       "132   aftershock back school kick great want thank e...  \n",
       "6845  response trauma child addict develop defensive...  "
      ]
     },
     "execution_count": 9,
     "metadata": {},
     "output_type": "execute_result"
    }
   ],
   "source": [
    "dev.head()"
   ]
  },
  {
   "cell_type": "markdown",
   "metadata": {},
   "source": [
    "# d) Bag of word.    \n",
    "I set min_df = 5 which means we only include in the vocabulary words that appear in at least 5 different tweets, since 5 might be a good balance, not too large or too small, so it save computing time by avoiding too infrequent words, and still leave fair chance for learning the reast of key words. Total number of features in these vector is 1834."
   ]
  },
  {
   "cell_type": "code",
   "execution_count": 10,
   "metadata": {},
   "outputs": [
    {
     "name": "stdout",
     "output_type": "stream",
     "text": [
      "(5329, 1834)\n",
      "(2284, 1834)\n",
      "total number of features in these vector is 1834\n"
     ]
    }
   ],
   "source": [
    "#bag of word\n",
    "# frames = [train,dev]\n",
    "# result = pd.concat(frames)\n",
    "count_vectorizer = CountVectorizer(binary=True,min_df=5)\n",
    "# result_vectors = count_vectorizer.fit_transform(result['preprocessed_text']).toarray()\n",
    "# print(result_vectors.shape)\n",
    "train_vectors = count_vectorizer.fit_transform(train['preprocessed_text']).toarray()\n",
    "dev_vectors = count_vectorizer.transform(dev['preprocessed_text']).toarray()\n",
    "print(train_vectors.shape)\n",
    "print(dev_vectors.shape)\n",
    "print( 'total number of features in these vector is {}'.format(dev_vectors.shape[1]))\n",
    "x_train = train_vectors\n",
    "y_train = train['target']\n",
    "x_dev = dev_vectors\n",
    "y_dev = dev['target']\n",
    "\n"
   ]
  },
  {
   "cell_type": "markdown",
   "metadata": {},
   "source": [
    "# e) Implement a naive Bayes classifier.\n",
    "F score = 0.7480314960629921 "
   ]
  },
  {
   "cell_type": "code",
   "execution_count": 11,
   "metadata": {},
   "outputs": [
    {
     "data": {
      "text/plain": [
       "array([0., 0., 1., ..., 1., 1., 1.])"
      ]
     },
     "execution_count": 11,
     "metadata": {},
     "output_type": "execute_result"
    }
   ],
   "source": [
    "def Naive_Bayes(x_train, y_train, x_dev):\n",
    "    \n",
    "    #creating a matrix to calculate P(0) and P(1)\n",
    "    likelihood = np.zeros((2, x_train.shape[1]))\n",
    "    \n",
    "    #finding the P (xj|Ck)\n",
    "    for i in range(len([0,1])):\n",
    "        equal = np.equal(y_train, i)\n",
    "        likelihood[i, :] = np.sum(x_train[equal], axis = 0) / x_train[equal].shape[0] \n",
    "        \n",
    "    predict = np.zeros(x_dev.shape[0])    \n",
    "    for i in range (x_dev.shape[0]): \n",
    "        prob_list = np.zeros(2)  \n",
    "        for z in range(2):\n",
    "            items = x_train.shape[0]\n",
    "            before = np.bincount(y_train)/items\n",
    "            after = before[z]\n",
    "            new_likelihood = likelihood[z, :]\n",
    "            for h in range(x_dev[i,:].shape[0]):\n",
    "                if x_dev[i,h] == True:\n",
    "                    p = new_likelihood[h]\n",
    "                else:\n",
    "                    p = 1 - new_likelihood[h]\n",
    "                after = after * p\n",
    "            prob_list[z] = after\n",
    "        #finding the argmax of the conditional prob\n",
    "        result_type = [0,1]\n",
    "        result = result_type[np.argmax(prob_list)]\n",
    "        predict[i] = result\n",
    "    return predict\n",
    "Naive_Bayes(x_train, y_train, x_dev)"
   ]
  },
  {
   "cell_type": "code",
   "execution_count": 12,
   "metadata": {},
   "outputs": [
    {
     "name": "stdout",
     "output_type": "stream",
     "text": [
      "0.7480314960629921\n"
     ]
    }
   ],
   "source": [
    "NB_pridict = Naive_Bayes(x_train, y_train, x_dev)\n",
    "F_score = f1_score(y_dev,NB_pridict)\n",
    "print(F_score)"
   ]
  },
  {
   "cell_type": "markdown",
   "metadata": {},
   "source": [
    "# f) Logistic regression prediction.   \n",
    "F score = 0.7377584330794341, and the most important words for deciding whether a tweet is about a real disaster or not is: hiroshima"
   ]
  },
  {
   "cell_type": "code",
   "execution_count": 13,
   "metadata": {},
   "outputs": [
    {
     "name": "stdout",
     "output_type": "stream",
     "text": [
      "0.7377584330794341\n",
      "The most imprtant word is hiroshima\n"
     ]
    },
    {
     "name": "stderr",
     "output_type": "stream",
     "text": [
      "/Users/sylvia/opt/anaconda3/lib/python3.7/site-packages/sklearn/linear_model/logistic.py:432: FutureWarning: Default solver will be changed to 'lbfgs' in 0.22. Specify a solver to silence this warning.\n",
      "  FutureWarning)\n"
     ]
    }
   ],
   "source": [
    "logreg = LogisticRegression()\n",
    "logreg.fit(x_train,y_train)\n",
    "log_predict_binary = logreg.predict(x_dev)\n",
    "F_score = f1_score(y_dev,log_predict_binary)\n",
    "print(F_score)\n",
    "importance = logreg.coef_\n",
    "index_word = np.argmax(importance)\n",
    "important_word = count_vectorizer.get_feature_names()\n",
    "print('The most imprtant word is ' + important_word[index_word])"
   ]
  },
  {
   "cell_type": "markdown",
   "metadata": {},
   "source": [
    "# g) Linear SVM prediction   \n",
    "What hyperparameter value results in the best classification perormance:   C= 0.01   \n",
    "This best F1 score of linear SVM classifier(0.7377584330794341) is very similar and just slightly smaller than F1_score of logistic regression classifier(0.7369040612124779) from the previous section   \n",
    "The most important words for deciding whether a tweet is about a real disaster or not is: hiroshima     \n",
    "this is same as the most important words for logistic regression."
   ]
  },
  {
   "cell_type": "code",
   "execution_count": 14,
   "metadata": {},
   "outputs": [
    {
     "name": "stderr",
     "output_type": "stream",
     "text": [
      "/Users/sylvia/opt/anaconda3/lib/python3.7/site-packages/sklearn/svm/base.py:929: ConvergenceWarning: Liblinear failed to converge, increase the number of iterations.\n",
      "  \"the number of iterations.\", ConvergenceWarning)\n",
      "/Users/sylvia/opt/anaconda3/lib/python3.7/site-packages/sklearn/svm/base.py:929: ConvergenceWarning: Liblinear failed to converge, increase the number of iterations.\n",
      "  \"the number of iterations.\", ConvergenceWarning)\n"
     ]
    },
    {
     "data": {
      "text/plain": [
       "[0.7369040612124779,\n",
       " 0.7360350492880614,\n",
       " 0.7174934725848563,\n",
       " 0.6979113601630158,\n",
       " 0.671763506625892]"
      ]
     },
     "execution_count": 14,
     "metadata": {},
     "output_type": "execute_result"
    }
   ],
   "source": [
    "C = [0.01, 0.1, 1.0, 10.0, 100.0]\n",
    "F_score_list = []\n",
    "for i in C:\n",
    "    linear_svm = LinearSVC(C = i)\n",
    "    linear_svm.fit(x_train,y_train)\n",
    "    linear_predict_binary = linear_svm.predict(x_dev)\n",
    "    F_score = f1_score(y_dev,linear_predict_binary)\n",
    "    F_score_list.append(F_score)\n",
    "F_score_list\n"
   ]
  },
  {
   "cell_type": "code",
   "execution_count": 14,
   "metadata": {},
   "outputs": [
    {
     "name": "stdout",
     "output_type": "stream",
     "text": [
      "The best C = 0.01, with the best F1 score = 0.7369040612124779.\n"
     ]
    },
    {
     "data": {
      "image/png": "[encoded data removed]",
      "text/plain": [
       "<Figure size 432x288 with 1 Axes>"
      ]
     },
     "metadata": {
      "needs_background": "light"
     },
     "output_type": "display_data"
    }
   ],
   "source": [
    "plt.plot(C, F_score_list)\n",
    "index_c = np.argmax(F_score_list)\n",
    "print('The best C = {}, with the best F1 score = {}.' .format(C[index_c], max(F_score_list)))"
   ]
  },
  {
   "cell_type": "code",
   "execution_count": 15,
   "metadata": {},
   "outputs": [
    {
     "name": "stdout",
     "output_type": "stream",
     "text": [
      "The most imprtant word is hiroshima\n"
     ]
    }
   ],
   "source": [
    "linear_svm = LinearSVC(C = 0.01)\n",
    "linear_svm.fit(x_train,y_train)\n",
    "importance_svm = linear_svm.coef_\n",
    "index_svm = np.argmax(importance_svm)\n",
    "important_word = count_vectorizer.get_feature_names()\n",
    "print('The most imprtant word is ' + important_word[index_svm])"
   ]
  },
  {
   "cell_type": "markdown",
   "metadata": {},
   "source": [
    "# h) Non-linear SVM prediction.   \n",
    "The best C = 100.0, with the best F1 score = 0.7470153496304719"
   ]
  },
  {
   "cell_type": "code",
   "execution_count": 16,
   "metadata": {},
   "outputs": [
    {
     "name": "stderr",
     "output_type": "stream",
     "text": [
      "/Users/sylvia/opt/anaconda3/lib/python3.7/site-packages/sklearn/metrics/classification.py:1437: UndefinedMetricWarning: F-score is ill-defined and being set to 0.0 due to no predicted samples.\n",
      "  'precision', 'predicted', average, warn_for)\n",
      "/Users/sylvia/opt/anaconda3/lib/python3.7/site-packages/sklearn/metrics/classification.py:1437: UndefinedMetricWarning: F-score is ill-defined and being set to 0.0 due to no predicted samples.\n",
      "  'precision', 'predicted', average, warn_for)\n",
      "/Users/sylvia/opt/anaconda3/lib/python3.7/site-packages/sklearn/metrics/classification.py:1437: UndefinedMetricWarning: F-score is ill-defined and being set to 0.0 due to no predicted samples.\n",
      "  'precision', 'predicted', average, warn_for)\n"
     ]
    },
    {
     "data": {
      "text/plain": [
       "[0.0, 0.0, 0.0, 0.6834804539722572, 0.7470153496304719]"
      ]
     },
     "execution_count": 16,
     "metadata": {},
     "output_type": "execute_result"
    }
   ],
   "source": [
    "C = [0.01, 0.1, 1.0, 10.0, 100.0]\n",
    "Fnonlear_list = []\n",
    "for i in C:\n",
    "    nonlinear_svm = SVC(kernel='rbf', C = i, probability = True, gamma='auto')\n",
    "    nonlinear_svm.fit(x_train,y_train)\n",
    "    nonlinear_predict_binary = nonlinear_svm.predict(x_dev)\n",
    "    Fnonlear_score = f1_score(y_dev,nonlinear_predict_binary)\n",
    "    Fnonlear_list.append(Fnonlear_score)\n",
    "    \n",
    "Fnonlear_list\n"
   ]
  },
  {
   "cell_type": "code",
   "execution_count": 17,
   "metadata": {},
   "outputs": [
    {
     "name": "stdout",
     "output_type": "stream",
     "text": [
      "The best C = 100.0, with the best F1 score = 0.7470153496304719.\n"
     ]
    },
    {
     "data": {
      "image/png": "[encoded data removed]",
      "text/plain": [
       "<Figure size 432x288 with 1 Axes>"
      ]
     },
     "metadata": {
      "needs_background": "light"
     },
     "output_type": "display_data"
    }
   ],
   "source": [
    "plt.plot(C, Fnonlear_list)\n",
    "index_c = np.argmax(Fnonlear_list)\n",
    "print('The best C = {}, with the best F1 score = {}.' .format(C[index_c], max(Fnonlear_list)))"
   ]
  },
  {
   "cell_type": "markdown",
   "metadata": {},
   "source": [
    "# i) N-gram model.  \n",
    "We choose M = 5 to avoid the run-time and memory issues, we reduce the threshold from 5 to 6 since 2 gram may increase too much vectors and need higher threshold.  \n",
    "\n",
    "For e) N-grammodel implement a naive Bayes classifier: F1 score = 0.7199526346950859\n",
    "\n",
    "\n",
    "For f) N-grammodel Logistic regression prediction, F score = 0.7401746724890829 and important word is The most imprtant word is hiroshima;\n",
    "\n",
    "\n",
    "For g) N-grammodel Linear SVM prediction, The best C = 0.1, with the best F1 score = 0.7398463227222831, which is slightly more than Logistic regression's F score, the important word is laden which is different to the most important words for Logistic regression;\n",
    "\n",
    "\n",
    "For h) Non-linear SVM prediction: The best C = 100.0, with the best F1 score = 0.7419354838709676..\n",
    "\n",
    "\n",
    "Regarding all F score, the best performance classifier is Non-linear SVM prediction, and the result is not that different from bag of word model (and even slightly less accurate than bag of word model in general), but the running time is significantly more than bag of word model, thus we prefer using the bag of word mode. "
   ]
  },
  {
   "cell_type": "code",
   "execution_count": 31,
   "metadata": {},
   "outputs": [
    {
     "name": "stdout",
     "output_type": "stream",
     "text": [
      "(5329, 2138)\n",
      "(2284, 2138)\n",
      "total number of features in these vector is 2138\n"
     ]
    }
   ],
   "source": [
    "N_grammodel = CountVectorizer(binary=True, ngram_range=(1, 2), min_df = 6)\n",
    "# N_grammodel_vectors = N_grammodel.fit_transform(result['preprocessed_text']).toarray()\n",
    "# print(N_grammodel_vectors.shape)\n",
    "n_train_vectors = N_grammodel.fit_transform(train['preprocessed_text']).toarray()\n",
    "n_dev_vectors = N_grammodel.transform(dev['preprocessed_text']).toarray()\n",
    "print(n_train_vectors.shape)\n",
    "print(n_dev_vectors.shape)\n",
    "print( 'total number of features in these vector is {}'.format(n_dev_vectors.shape[1]))\n",
    "x_Ntrain = n_train_vectors\n",
    "y_Ntrain = train['target']\n",
    "x_Ndev = n_dev_vectors\n",
    "y_Ndev = dev['target']"
   ]
  },
  {
   "cell_type": "code",
   "execution_count": 32,
   "metadata": {},
   "outputs": [
    {
     "data": {
      "text/plain": [
       "array(['gt http', 'flood http', 'crematorium provoke', 'school bus',\n",
       "       'fear kill', 'past anniversary', 'breaking news',\n",
       "       'legionnaire disea', 'wave black', 'bomb japan'], dtype='<U26')"
      ]
     },
     "execution_count": 32,
     "metadata": {},
     "output_type": "execute_result"
    }
   ],
   "source": [
    "two_grammodel = CountVectorizer(binary=True, ngram_range=(2, 2), min_df=6)\n",
    "#ransom sample\n",
    "two_grammodel_vectors = two_grammodel.fit_transform(train['preprocessed_text']).toarray()\n",
    "two_gram_name = two_grammodel.get_feature_names()\n",
    "#radom print out 10 2 gram vocabulary\n",
    "np.random.choice(two_gram_name,size = 10)"
   ]
  },
  {
   "cell_type": "code",
   "execution_count": 36,
   "metadata": {},
   "outputs": [
    {
     "name": "stdout",
     "output_type": "stream",
     "text": [
      "F1 score = 0.7199526346950859\n"
     ]
    }
   ],
   "source": [
    "# N-grammodel Implement a naive Bayes classifier.\n",
    "nb_pridict = Naive_Bayes(x_Ntrain, y_Ntrain, x_Ndev)\n",
    "F_score = f1_score(y_dev,nb_pridict)\n",
    "print('F1 score = ' + str(F_score))"
   ]
  },
  {
   "cell_type": "code",
   "execution_count": 34,
   "metadata": {},
   "outputs": [
    {
     "name": "stdout",
     "output_type": "stream",
     "text": [
      "0.7401746724890829\n",
      "The most imprtant word is hiroshima\n"
     ]
    },
    {
     "name": "stderr",
     "output_type": "stream",
     "text": [
      "/Users/sylvia/opt/anaconda3/lib/python3.7/site-packages/sklearn/linear_model/logistic.py:432: FutureWarning: Default solver will be changed to 'lbfgs' in 0.22. Specify a solver to silence this warning.\n",
      "  FutureWarning)\n"
     ]
    }
   ],
   "source": [
    "# N-grammodel Logistic regression prediction\n",
    "nlogreg = LogisticRegression()\n",
    "nlogreg.fit(x_Ntrain,y_Ntrain)\n",
    "nlog_predict_binary = nlogreg.predict(x_Ndev)\n",
    "nF_score = f1_score(y_Ndev,nlog_predict_binary)\n",
    "print(nF_score)\n",
    "nimportance = nlogreg.coef_\n",
    "nindex_word = np.argmax(nimportance)\n",
    "important_word = N_grammodel.get_feature_names()\n",
    "print('The most imprtant word is ' + important_word[nindex_word])\n"
   ]
  },
  {
   "cell_type": "code",
   "execution_count": 34,
   "metadata": {},
   "outputs": [
    {
     "name": "stderr",
     "output_type": "stream",
     "text": [
      "/Users/sylvia/opt/anaconda3/lib/python3.7/site-packages/sklearn/svm/base.py:929: ConvergenceWarning: Liblinear failed to converge, increase the number of iterations.\n",
      "  \"the number of iterations.\", ConvergenceWarning)\n",
      "/Users/sylvia/opt/anaconda3/lib/python3.7/site-packages/sklearn/svm/base.py:929: ConvergenceWarning: Liblinear failed to converge, increase the number of iterations.\n",
      "  \"the number of iterations.\", ConvergenceWarning)\n"
     ]
    },
    {
     "data": {
      "text/plain": [
       "[0.7374631268436578,\n",
       " 0.7398463227222831,\n",
       " 0.7190775681341718,\n",
       " 0.6895491803278688,\n",
       " 0.679245283018868]"
      ]
     },
     "execution_count": 34,
     "metadata": {},
     "output_type": "execute_result"
    }
   ],
   "source": [
    "# N-grammodel Linear SVM prediction.\n",
    "C = [0.01, 0.1, 1.0, 10.0, 100.0]\n",
    "nSVM_F_score_list = []\n",
    "for i in C:\n",
    "    linear_svm = LinearSVC(C = i)\n",
    "    linear_svm.fit(x_Ntrain,y_Ntrain)\n",
    "    linear_predict_binary = linear_svm.predict(x_Ndev)\n",
    "    nSVM_F_score = f1_score(y_Ndev,linear_predict_binary)\n",
    "    nSVM_F_score_list.append(nSVM_F_score)\n",
    "nSVM_F_score_list\n"
   ]
  },
  {
   "cell_type": "code",
   "execution_count": 35,
   "metadata": {},
   "outputs": [
    {
     "name": "stdout",
     "output_type": "stream",
     "text": [
      "The best C = 0.1, with the best F1 score = 0.7398463227222831.\n"
     ]
    },
    {
     "data": {
      "image/png": "[encoded data removed]",
      "text/plain": [
       "<Figure size 432x288 with 1 Axes>"
      ]
     },
     "metadata": {
      "needs_background": "light"
     },
     "output_type": "display_data"
    }
   ],
   "source": [
    "plt.plot(C, nSVM_F_score_list)\n",
    "index_c = np.argmax(nSVM_F_score_list)\n",
    "print('The best C = {}, with the best F1 score = {}.' .format(C[index_c], max(nSVM_F_score_list)))"
   ]
  },
  {
   "cell_type": "code",
   "execution_count": 36,
   "metadata": {},
   "outputs": [
    {
     "name": "stdout",
     "output_type": "stream",
     "text": [
      "The most imprtant word is laden\n"
     ]
    }
   ],
   "source": [
    "linear_svm = LinearSVC(C = 0.01)\n",
    "linear_svm.fit(x_Ntrain,y_Ntrain)\n",
    "importance_svm = linear_svm.coef_\n",
    "index_svm = np.argmax(importance_svm)\n",
    "important_word = count_vectorizer.get_feature_names()\n",
    "print('The most imprtant word is ' + important_word[index_svm])"
   ]
  },
  {
   "cell_type": "code",
   "execution_count": 37,
   "metadata": {},
   "outputs": [
    {
     "name": "stderr",
     "output_type": "stream",
     "text": [
      "/Users/sylvia/opt/anaconda3/lib/python3.7/site-packages/sklearn/metrics/classification.py:1437: UndefinedMetricWarning: F-score is ill-defined and being set to 0.0 due to no predicted samples.\n",
      "  'precision', 'predicted', average, warn_for)\n",
      "/Users/sylvia/opt/anaconda3/lib/python3.7/site-packages/sklearn/metrics/classification.py:1437: UndefinedMetricWarning: F-score is ill-defined and being set to 0.0 due to no predicted samples.\n",
      "  'precision', 'predicted', average, warn_for)\n",
      "/Users/sylvia/opt/anaconda3/lib/python3.7/site-packages/sklearn/metrics/classification.py:1437: UndefinedMetricWarning: F-score is ill-defined and being set to 0.0 due to no predicted samples.\n",
      "  'precision', 'predicted', average, warn_for)\n"
     ]
    },
    {
     "data": {
      "text/plain": [
       "[0.0, 0.0, 0.0, 0.6335570469798658, 0.7419354838709676]"
      ]
     },
     "execution_count": 37,
     "metadata": {},
     "output_type": "execute_result"
    }
   ],
   "source": [
    "# Non-linear SVM prediction.\n",
    "C = [0.01, 0.1, 1.0, 10.0, 100.0]\n",
    "Fnonlear_list = []\n",
    "for i in C:\n",
    "    nonlinear_svm = SVC(kernel='rbf', C = i, probability = True, gamma='auto')\n",
    "    nonlinear_svm.fit(x_Ntrain,y_Ntrain)\n",
    "    nonlinear_predict_binary = nonlinear_svm.predict(x_Ndev)\n",
    "    Fnonlear_score = f1_score(y_Ndev,nonlinear_predict_binary)\n",
    "    Fnonlear_list.append(Fnonlear_score)\n",
    "    \n",
    "Fnonlear_list\n"
   ]
  },
  {
   "cell_type": "code",
   "execution_count": 38,
   "metadata": {},
   "outputs": [
    {
     "name": "stdout",
     "output_type": "stream",
     "text": [
      "The best C = 100.0, with the best F1 score = 0.7419354838709676.\n"
     ]
    },
    {
     "data": {
      "image/png": "[encoded data removed]",
      "text/plain": [
       "<Figure size 432x288 with 1 Axes>"
      ]
     },
     "metadata": {
      "needs_background": "light"
     },
     "output_type": "display_data"
    }
   ],
   "source": [
    "plt.plot(C, Fnonlear_list)\n",
    "index_c = np.argmax(Fnonlear_list)\n",
    "print('The best C = {}, with the best F1 score = {}.' .format(C[index_c], max(Fnonlear_list)))"
   ]
  },
  {
   "cell_type": "markdown",
   "metadata": {},
   "source": [
    "# j) Incorporating the additional columns.\n",
    "\n",
    "We used bag of word model since N-gram model reaches less accurate result and significantly slower, thus bag of word model will be more effient and give a fairly good result.  \n",
    "\n",
    "For e) naive Bayes model, F1 score = 0.7469879518072289 \n",
    "\n",
    "For f) bag of word model Logistic regression prediction, F score = 0.7414163090128756, and the most important words for deciding whether a tweet is about a real disaster or not is: hiroshima;\n",
    "\n",
    "\n",
    "For g) bag of word model Linear SVM prediction, The best C = 0.01, with the best F1 score = 0.7402298850574713, which is slightly less than Logistic regression's F score, the important word is hiroshima which is same to the most important words for Logistic regression;\n",
    "\n",
    "\n",
    "For h) bag of word model Non-linear SVM prediction: The best C = 100.0, with the best F1 score = 0.7519818799547.\n",
    "\n",
    "\n",
    "Regarding all F score, the best performance classifier is Non-linear SVM prediction, all F scores are similar but slightly larger than previous reduced model, it probably because additional feature increase the prediction  to the real disaster."
   ]
  },
  {
   "cell_type": "code",
   "execution_count": 43,
   "metadata": {},
   "outputs": [
    {
     "data": {
      "text/html": [
       "<div>\n",
       "<style scoped>\n",
       "    .dataframe tbody tr th:only-of-type {\n",
       "        vertical-align: middle;\n",
       "    }\n",
       "\n",
       "    .dataframe tbody tr th {\n",
       "        vertical-align: top;\n",
       "    }\n",
       "\n",
       "    .dataframe thead th {\n",
       "        text-align: right;\n",
       "    }\n",
       "</style>\n",
       "<table border=\"1\" class=\"dataframe\">\n",
       "  <thead>\n",
       "    <tr style=\"text-align: right;\">\n",
       "      <th></th>\n",
       "      <th>id</th>\n",
       "      <th>keyword</th>\n",
       "      <th>location</th>\n",
       "      <th>text</th>\n",
       "      <th>target</th>\n",
       "      <th>Lemmatize</th>\n",
       "      <th>no_punctuations</th>\n",
       "      <th>preprocessed_text</th>\n",
       "      <th>new</th>\n",
       "    </tr>\n",
       "  </thead>\n",
       "  <tbody>\n",
       "    <tr>\n",
       "      <td>2644</td>\n",
       "      <td>3796</td>\n",
       "      <td>destruction</td>\n",
       "      <td>NaN</td>\n",
       "      <td>so you have a new weapon that can cause un-ima...</td>\n",
       "      <td>1</td>\n",
       "      <td>so you have a new weapon that can cause un-ima...</td>\n",
       "      <td>so you have a new weapon that can cause unimag...</td>\n",
       "      <td>new weapon cause unimaginable destruction</td>\n",
       "      <td>destruction new weapon cause unimaginable dest...</td>\n",
       "    </tr>\n",
       "    <tr>\n",
       "      <td>2227</td>\n",
       "      <td>3185</td>\n",
       "      <td>deluge</td>\n",
       "      <td>NaN</td>\n",
       "      <td>the f$&amp;amp;@ing things i do for #gishwhes just...</td>\n",
       "      <td>0</td>\n",
       "      <td>the f $ &amp; amp ; @ ing thing i do for # gishwhe...</td>\n",
       "      <td>the f   amp   ing thing i do for  gishwhes jus...</td>\n",
       "      <td>f amp ing thing gishwhes get soak deluge go pa...</td>\n",
       "      <td>deluge f amp ing thing gishwhes get soak delug...</td>\n",
       "    </tr>\n",
       "    <tr>\n",
       "      <td>5448</td>\n",
       "      <td>7769</td>\n",
       "      <td>police</td>\n",
       "      <td>uk</td>\n",
       "      <td>dt @georgegalloway: rt @galloway4mayor: ûïthe...</td>\n",
       "      <td>1</td>\n",
       "      <td>dt @ georgegalloway : rt @ galloway4mayor : û...</td>\n",
       "      <td>dt  georgegalloway  rt  galloway4mayor  ûïthe...</td>\n",
       "      <td>dt georgegalloway rt galloway4mayor ûïthe col...</td>\n",
       "      <td>police uk dt georgegalloway rt galloway4mayor ...</td>\n",
       "    </tr>\n",
       "    <tr>\n",
       "      <td>132</td>\n",
       "      <td>191</td>\n",
       "      <td>aftershock</td>\n",
       "      <td>NaN</td>\n",
       "      <td>aftershock back to school kick off was great. ...</td>\n",
       "      <td>0</td>\n",
       "      <td>aftershock back to school kick off be great . ...</td>\n",
       "      <td>aftershock back to school kick off be great  i...</td>\n",
       "      <td>aftershock back school kick great want thank e...</td>\n",
       "      <td>aftershock aftershock back school kick great w...</td>\n",
       "    </tr>\n",
       "    <tr>\n",
       "      <td>6845</td>\n",
       "      <td>9810</td>\n",
       "      <td>trauma</td>\n",
       "      <td>montgomery county, md</td>\n",
       "      <td>in response to trauma children of addicts deve...</td>\n",
       "      <td>0</td>\n",
       "      <td>in response to trauma child of addict develop ...</td>\n",
       "      <td>in response to trauma child of addict develop ...</td>\n",
       "      <td>response trauma child addict develop defensive...</td>\n",
       "      <td>trauma montgomery county, md response trauma c...</td>\n",
       "    </tr>\n",
       "  </tbody>\n",
       "</table>\n",
       "</div>"
      ],
      "text/plain": [
       "        id      keyword               location  \\\n",
       "2644  3796  destruction                    NaN   \n",
       "2227  3185       deluge                    NaN   \n",
       "5448  7769       police                     uk   \n",
       "132    191   aftershock                    NaN   \n",
       "6845  9810       trauma  montgomery county, md   \n",
       "\n",
       "                                                   text  target  \\\n",
       "2644  so you have a new weapon that can cause un-ima...       1   \n",
       "2227  the f$&amp;@ing things i do for #gishwhes just...       0   \n",
       "5448  dt @georgegalloway: rt @galloway4mayor: ûïthe...       1   \n",
       "132   aftershock back to school kick off was great. ...       0   \n",
       "6845  in response to trauma children of addicts deve...       0   \n",
       "\n",
       "                                              Lemmatize  \\\n",
       "2644  so you have a new weapon that can cause un-ima...   \n",
       "2227  the f $ & amp ; @ ing thing i do for # gishwhe...   \n",
       "5448  dt @ georgegalloway : rt @ galloway4mayor : û...   \n",
       "132   aftershock back to school kick off be great . ...   \n",
       "6845  in response to trauma child of addict develop ...   \n",
       "\n",
       "                                        no_punctuations  \\\n",
       "2644  so you have a new weapon that can cause unimag...   \n",
       "2227  the f   amp   ing thing i do for  gishwhes jus...   \n",
       "5448  dt  georgegalloway  rt  galloway4mayor  ûïthe...   \n",
       "132   aftershock back to school kick off be great  i...   \n",
       "6845  in response to trauma child of addict develop ...   \n",
       "\n",
       "                                      preprocessed_text  \\\n",
       "2644          new weapon cause unimaginable destruction   \n",
       "2227  f amp ing thing gishwhes get soak deluge go pa...   \n",
       "5448  dt georgegalloway rt galloway4mayor ûïthe col...   \n",
       "132   aftershock back school kick great want thank e...   \n",
       "6845  response trauma child addict develop defensive...   \n",
       "\n",
       "                                                    new  \n",
       "2644  destruction new weapon cause unimaginable dest...  \n",
       "2227  deluge f amp ing thing gishwhes get soak delug...  \n",
       "5448  police uk dt georgegalloway rt galloway4mayor ...  \n",
       "132   aftershock aftershock back school kick great w...  \n",
       "6845  trauma montgomery county, md response trauma c...  "
      ]
     },
     "execution_count": 43,
     "metadata": {},
     "output_type": "execute_result"
    }
   ],
   "source": [
    "new_train = train\n",
    "new_dev = dev\n",
    "cols = ['keyword', 'location', 'preprocessed_text']\n",
    "new_train[\"new\"] = new_train[cols].apply(lambda x: ' '.join(x.dropna()), axis=1)\n",
    "new_dev[\"new\"] = new_dev[cols].apply(lambda x: ' '.join(x.dropna()), axis=1)\n",
    "new_train['new'].apply(lambda x: lemmatize_sentence(x))\n",
    "new_dev['new'].apply(lambda x: lemmatize_sentence(x))\n",
    "new_train['new'].apply(lambda x: no_punctuations(x))\n",
    "new_dev['new'].apply(lambda x: no_punctuations(x))\n",
    "stop = stopwords.words('english')\n",
    "new_train['new'].apply(lambda x: ' '.join([word for word in x.split() if word not in (stop)]))\n",
    "new_dev['new'].apply(lambda x: ' '.join([word for word in x.split() if word not in (stop)]))\n",
    "new_dev.head()"
   ]
  },
  {
   "cell_type": "code",
   "execution_count": 44,
   "metadata": {},
   "outputs": [
    {
     "name": "stdout",
     "output_type": "stream",
     "text": [
      "(5329, 2174)\n",
      "(2284, 2174)\n",
      "total number of features in these vector is 2174\n"
     ]
    }
   ],
   "source": [
    "#bag of word\n",
    "count_vectorizer = CountVectorizer(binary=True,min_df=5)\n",
    "train_vectors = count_vectorizer.fit_transform(new_train['new']).toarray()\n",
    "dev_vectors = count_vectorizer.transform(new_dev['new']).toarray()\n",
    "print(train_vectors.shape)\n",
    "print(dev_vectors.shape)\n",
    "print( 'total number of features in these vector is {}'.format(dev_vectors.shape[1]))\n",
    "x_train = train_vectors\n",
    "y_train = train['target']\n",
    "x_dev = dev_vectors\n",
    "y_dev = dev['target']"
   ]
  },
  {
   "cell_type": "code",
   "execution_count": 45,
   "metadata": {},
   "outputs": [
    {
     "name": "stdout",
     "output_type": "stream",
     "text": [
      "F1 score = 0.7469879518072289\n"
     ]
    }
   ],
   "source": [
    "#naive Bayes classifier.\n",
    "nb_pridict = Naive_Bayes(x_train, y_train, x_dev)\n",
    "F_score = f1_score(y_dev,nb_pridict)\n",
    "print('F1 score = ' + str(F_score))"
   ]
  },
  {
   "cell_type": "code",
   "execution_count": 41,
   "metadata": {},
   "outputs": [
    {
     "name": "stdout",
     "output_type": "stream",
     "text": [
      "0.7414163090128756\n"
     ]
    },
    {
     "name": "stderr",
     "output_type": "stream",
     "text": [
      "/Users/sylvia/opt/anaconda3/lib/python3.7/site-packages/sklearn/linear_model/logistic.py:432: FutureWarning: Default solver will be changed to 'lbfgs' in 0.22. Specify a solver to silence this warning.\n",
      "  FutureWarning)\n"
     ]
    },
    {
     "data": {
      "text/plain": [
       "'hiroshima'"
      ]
     },
     "execution_count": 41,
     "metadata": {},
     "output_type": "execute_result"
    }
   ],
   "source": [
    "# Logistic regression prediction for combined data.\n",
    "logreg = LogisticRegression()\n",
    "logreg.fit(x_train,y_train)\n",
    "log_predict_binary = logreg.predict(x_dev)\n",
    "F_score = f1_score(y_dev,log_predict_binary)\n",
    "print(F_score)\n",
    "importance = logreg.coef_\n",
    "index_word = np.argmax(importance)\n",
    "important_word = count_vectorizer.get_feature_names()\n",
    "important_word[index_word]"
   ]
  },
  {
   "cell_type": "code",
   "execution_count": 42,
   "metadata": {},
   "outputs": [
    {
     "name": "stderr",
     "output_type": "stream",
     "text": [
      "/Users/sylvia/opt/anaconda3/lib/python3.7/site-packages/sklearn/svm/base.py:929: ConvergenceWarning: Liblinear failed to converge, increase the number of iterations.\n",
      "  \"the number of iterations.\", ConvergenceWarning)\n",
      "/Users/sylvia/opt/anaconda3/lib/python3.7/site-packages/sklearn/svm/base.py:929: ConvergenceWarning: Liblinear failed to converge, increase the number of iterations.\n",
      "  \"the number of iterations.\", ConvergenceWarning)\n"
     ]
    },
    {
     "name": "stdout",
     "output_type": "stream",
     "text": [
      "[0.7402298850574713, 0.7359913793103448, 0.7086126869520373, 0.6828282828282828, 0.6490528414755733]\n",
      "The best C = 0.01, with the best F1 score = 0.7402298850574713.\n",
      "The most imprtant word is hiroshima\n"
     ]
    },
    {
     "data": {
      "image/png": "[encoded data removed]",
      "text/plain": [
       "<Figure size 432x288 with 1 Axes>"
      ]
     },
     "metadata": {
      "needs_background": "light"
     },
     "output_type": "display_data"
    }
   ],
   "source": [
    "# g) Linear SVM prediction   \n",
    "C = [0.01, 0.1, 1.0, 10.0, 100.0]\n",
    "F_score_list = []\n",
    "for i in C:\n",
    "    linear_svm = LinearSVC(C = i)\n",
    "    linear_svm.fit(x_train,y_train)\n",
    "    linear_predict_binary = linear_svm.predict(x_dev)\n",
    "    F_score = f1_score(y_dev,linear_predict_binary)\n",
    "    F_score_list.append(F_score)\n",
    "print(F_score_list)\n",
    "plt.plot(C, F_score_list)\n",
    "index_c = np.argmax(F_score_list)\n",
    "print('The best C = {}, with the best F1 score = {}.' .format(C[index_c], max(F_score_list)))\n",
    "linear_svm = LinearSVC(C = 0.01)\n",
    "linear_svm.fit(x_train,y_train)\n",
    "importance_svm = linear_svm.coef_\n",
    "index_svm = np.argmax(importance_svm)\n",
    "important_word = count_vectorizer.get_feature_names()\n",
    "print('The most imprtant word is ' + important_word[index_svm])"
   ]
  },
  {
   "cell_type": "code",
   "execution_count": 43,
   "metadata": {
    "scrolled": true
   },
   "outputs": [
    {
     "name": "stderr",
     "output_type": "stream",
     "text": [
      "/Users/sylvia/opt/anaconda3/lib/python3.7/site-packages/sklearn/metrics/classification.py:1437: UndefinedMetricWarning: F-score is ill-defined and being set to 0.0 due to no predicted samples.\n",
      "  'precision', 'predicted', average, warn_for)\n",
      "/Users/sylvia/opt/anaconda3/lib/python3.7/site-packages/sklearn/metrics/classification.py:1437: UndefinedMetricWarning: F-score is ill-defined and being set to 0.0 due to no predicted samples.\n",
      "  'precision', 'predicted', average, warn_for)\n",
      "/Users/sylvia/opt/anaconda3/lib/python3.7/site-packages/sklearn/metrics/classification.py:1437: UndefinedMetricWarning: F-score is ill-defined and being set to 0.0 due to no predicted samples.\n",
      "  'precision', 'predicted', average, warn_for)\n"
     ]
    },
    {
     "name": "stdout",
     "output_type": "stream",
     "text": [
      "[0.0, 0.0, 0.0, 0.6791277258566978, 0.7519818799547]\n",
      "The best C = 100.0, with the best F1 score = 0.7519818799547.\n"
     ]
    },
    {
     "data": {
      "image/png": "[encoded data removed]",
      "text/plain": [
       "<Figure size 432x288 with 1 Axes>"
      ]
     },
     "metadata": {
      "needs_background": "light"
     },
     "output_type": "display_data"
    }
   ],
   "source": [
    "# h) Non-linear SVM prediction. \n",
    "C = [0.01, 0.1, 1.0, 10.0, 100.0]\n",
    "Fnonlear_list = []\n",
    "for i in C:\n",
    "    nonlinear_svm = SVC(kernel='rbf', C = i, probability = True, gamma='auto')\n",
    "    nonlinear_svm.fit(x_train,y_train)\n",
    "    nonlinear_predict_binary = nonlinear_svm.predict(x_dev)\n",
    "    Fnonlear_score = f1_score(y_dev,nonlinear_predict_binary)\n",
    "    Fnonlear_list.append(Fnonlear_score)  \n",
    "print(Fnonlear_list)\n",
    "plt.plot(C, Fnonlear_list)\n",
    "index_c = np.argmax(Fnonlear_list)\n",
    "print('The best C = {}, with the best F1 score = {}.' .format(C[index_c], max(Fnonlear_list)))"
   ]
  },
  {
   "cell_type": "markdown",
   "metadata": {},
   "source": [
    "# (k) Finalizing your model.\n",
    "Out of all of the joint approaches we have considered so far, we believe 'Bag of Word' method with nonliear SVM method and using all features (keyword, text and location) will give use the most accurate result. According to the previouse test, this method have the highest F score.     \n",
    "\n",
    "After submitting to Kaggle, we get F score = 0.78455, which is close and slightly higher than our expectation, it shows that non linear SVM makes most correlated feature condtribue more to the prediction, thus it handle the text analyzing well."
   ]
  },
  {
   "cell_type": "code",
   "execution_count": 21,
   "metadata": {},
   "outputs": [
    {
     "data": {
      "text/html": [
       "<div>\n",
       "<style scoped>\n",
       "    .dataframe tbody tr th:only-of-type {\n",
       "        vertical-align: middle;\n",
       "    }\n",
       "\n",
       "    .dataframe tbody tr th {\n",
       "        vertical-align: top;\n",
       "    }\n",
       "\n",
       "    .dataframe thead th {\n",
       "        text-align: right;\n",
       "    }\n",
       "</style>\n",
       "<table border=\"1\" class=\"dataframe\">\n",
       "  <thead>\n",
       "    <tr style=\"text-align: right;\">\n",
       "      <th></th>\n",
       "      <th>id</th>\n",
       "      <th>keyword</th>\n",
       "      <th>location</th>\n",
       "      <th>text</th>\n",
       "      <th>new</th>\n",
       "      <th>Lemmatize</th>\n",
       "      <th>no_punctuations</th>\n",
       "      <th>preprocessed_text</th>\n",
       "    </tr>\n",
       "  </thead>\n",
       "  <tbody>\n",
       "    <tr>\n",
       "      <td>0</td>\n",
       "      <td>0</td>\n",
       "      <td>NaN</td>\n",
       "      <td>NaN</td>\n",
       "      <td>just happened a terrible car crash</td>\n",
       "      <td>just happened a terrible car crash</td>\n",
       "      <td>just happen a terrible car crash</td>\n",
       "      <td>just happen a terrible car crash</td>\n",
       "      <td>happen terrible car crash</td>\n",
       "    </tr>\n",
       "    <tr>\n",
       "      <td>1</td>\n",
       "      <td>2</td>\n",
       "      <td>NaN</td>\n",
       "      <td>NaN</td>\n",
       "      <td>heard about #earthquake is different cities, s...</td>\n",
       "      <td>heard about #earthquake is different cities, s...</td>\n",
       "      <td>heard about # earthquake be different city , s...</td>\n",
       "      <td>heard about  earthquake be different city  sta...</td>\n",
       "      <td>heard earthquake different city stay safe ever...</td>\n",
       "    </tr>\n",
       "    <tr>\n",
       "      <td>2</td>\n",
       "      <td>3</td>\n",
       "      <td>NaN</td>\n",
       "      <td>NaN</td>\n",
       "      <td>there is a forest fire at spot pond, geese are...</td>\n",
       "      <td>there is a forest fire at spot pond, geese are...</td>\n",
       "      <td>there be a forest fire at spot pond , geese be...</td>\n",
       "      <td>there be a forest fire at spot pond  geese be ...</td>\n",
       "      <td>forest fire spot pond geese flee across street...</td>\n",
       "    </tr>\n",
       "    <tr>\n",
       "      <td>3</td>\n",
       "      <td>9</td>\n",
       "      <td>NaN</td>\n",
       "      <td>NaN</td>\n",
       "      <td>apocalypse lighting. #spokane #wildfires</td>\n",
       "      <td>apocalypse lighting. #spokane #wildfires</td>\n",
       "      <td>apocalypse light . # spokane # wildfire</td>\n",
       "      <td>apocalypse light   spokane  wildfire</td>\n",
       "      <td>apocalypse light spokane wildfire</td>\n",
       "    </tr>\n",
       "    <tr>\n",
       "      <td>4</td>\n",
       "      <td>11</td>\n",
       "      <td>NaN</td>\n",
       "      <td>NaN</td>\n",
       "      <td>typhoon soudelor kills 28 in china and taiwan</td>\n",
       "      <td>typhoon soudelor kills 28 in china and taiwan</td>\n",
       "      <td>typhoon soudelor kill 28 in china and taiwan</td>\n",
       "      <td>typhoon soudelor kill 28 in china and taiwan</td>\n",
       "      <td>typhoon soudelor kill 28 china taiwan</td>\n",
       "    </tr>\n",
       "  </tbody>\n",
       "</table>\n",
       "</div>"
      ],
      "text/plain": [
       "   id keyword location                                               text  \\\n",
       "0   0     NaN      NaN                 just happened a terrible car crash   \n",
       "1   2     NaN      NaN  heard about #earthquake is different cities, s...   \n",
       "2   3     NaN      NaN  there is a forest fire at spot pond, geese are...   \n",
       "3   9     NaN      NaN           apocalypse lighting. #spokane #wildfires   \n",
       "4  11     NaN      NaN      typhoon soudelor kills 28 in china and taiwan   \n",
       "\n",
       "                                                 new  \\\n",
       "0                 just happened a terrible car crash   \n",
       "1  heard about #earthquake is different cities, s...   \n",
       "2  there is a forest fire at spot pond, geese are...   \n",
       "3           apocalypse lighting. #spokane #wildfires   \n",
       "4      typhoon soudelor kills 28 in china and taiwan   \n",
       "\n",
       "                                           Lemmatize  \\\n",
       "0                   just happen a terrible car crash   \n",
       "1  heard about # earthquake be different city , s...   \n",
       "2  there be a forest fire at spot pond , geese be...   \n",
       "3            apocalypse light . # spokane # wildfire   \n",
       "4       typhoon soudelor kill 28 in china and taiwan   \n",
       "\n",
       "                                     no_punctuations  \\\n",
       "0                   just happen a terrible car crash   \n",
       "1  heard about  earthquake be different city  sta...   \n",
       "2  there be a forest fire at spot pond  geese be ...   \n",
       "3               apocalypse light   spokane  wildfire   \n",
       "4       typhoon soudelor kill 28 in china and taiwan   \n",
       "\n",
       "                                   preprocessed_text  \n",
       "0                          happen terrible car crash  \n",
       "1  heard earthquake different city stay safe ever...  \n",
       "2  forest fire spot pond geese flee across street...  \n",
       "3                  apocalypse light spokane wildfire  \n",
       "4              typhoon soudelor kill 28 china taiwan  "
      ]
     },
     "execution_count": 21,
     "metadata": {},
     "output_type": "execute_result"
    }
   ],
   "source": [
    "#preprocess of data\n",
    "df_test = pd.read_csv('test.csv', dtype={'id': np.int16})\n",
    "df_test = df_test.applymap(lambda s:s.lower() if type(s) == str else s)\n",
    "cols = ['keyword', 'location', 'text']\n",
    "df_test[\"new\"] = df_test[cols].apply(lambda x: ' '.join(x.dropna()), axis=1)\n",
    "df_test['Lemmatize'] = df_test['new'].apply(lambda x: lemmatize_sentence(x))\n",
    "df_test[\"no_punctuations\"] = df_test['Lemmatize'].apply(lambda x: no_punctuations(x))\n",
    "stop = stopwords.words('english')\n",
    "df_test['preprocessed_text'] = df_test['no_punctuations'].apply(lambda x: ' '.join([word for word in x.split() if word not in (stop)]))\n",
    "\n",
    "df_test.head()\n"
   ]
  },
  {
   "cell_type": "code",
   "execution_count": 27,
   "metadata": {},
   "outputs": [
    {
     "name": "stdout",
     "output_type": "stream",
     "text": [
      "(3263, 1834)\n",
      "total number of features in these vector is 1834\n"
     ]
    }
   ],
   "source": [
    "#bag of word\n",
    "count_vectorizer = CountVectorizer(binary=True,min_df=5)\n",
    "train_vectors = count_vectorizer.fit_transform(train['preprocessed_text']).toarray()\n",
    "test_vectors = count_vectorizer.transform(df_test['preprocessed_text']).toarray()\n",
    "print(test_vectors.shape)\n",
    "print( 'total number of features in these vector is {}'.format(test_vectors.shape[1]))\n",
    "x_train = train_vectors\n",
    "y_train = train['target']\n",
    "x_test = test_vectors\n"
   ]
  },
  {
   "cell_type": "code",
   "execution_count": 28,
   "metadata": {},
   "outputs": [],
   "source": [
    "#non linear SVM\n",
    "nonlinear_svm = SVC(kernel='rbf', C = 100, probability = True, gamma='auto')\n",
    "nonlinear_svm.fit(x_train,y_train)\n",
    "nonlinear_predict_binary = nonlinear_svm.predict(x_test)"
   ]
  },
  {
   "cell_type": "code",
   "execution_count": 29,
   "metadata": {},
   "outputs": [],
   "source": [
    "nonlinear_predict_binary = [ int(x) for x in nonlinear_predict_binary ]\n",
    "#submission\n",
    "submission = pd.DataFrame()\n",
    "submission['id'] = df_test['id']\n",
    "submission['target'] = nonlinear_predict_binary\n",
    "submission.to_csv('submission_nlSVM.csv', index=False)"
   ]
  },
  {
   "cell_type": "markdown",
   "metadata": {},
   "source": [
    "# l) Reflecting on interpretability. \n",
    " We will stick on the nonlinear model that we choose above. Firstly, we will not use Naive Bayes model since the model it rely on the assumption of conditional independence which is why is not reflecting the most accurate probability, it works good as an classifier but not work as an interpetable model, and we would rather use the SVM model(both linear SVM and Non linear SVM might work) since SVM model are good to show the relationship between features and results. SVM are more robust compare to the classic methods such as linear regression, so that only features that weight more will make significant impact to the result. Given the non lienar SVM reaches most accurate result and resons of using SVM, we will stick to that method. "
   ]
  }
 ],
 "metadata": {
  "kernelspec": {
   "display_name": "Python 3",
   "language": "python",
   "name": "python3"
  },
  "language_info": {
   "codemirror_mode": {
    "name": "ipython",
    "version": 3
   },
   "file_extension": ".py",
   "mimetype": "text/x-python",
   "name": "python",
   "nbconvert_exporter": "python",
   "pygments_lexer": "ipython3",
   "version": "3.7.4"
  }
 },
 "nbformat": 4,
 "nbformat_minor": 2
}
