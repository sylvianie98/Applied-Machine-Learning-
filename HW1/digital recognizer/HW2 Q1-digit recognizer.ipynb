{
 "cells": [
  {
   "cell_type": "code",
   "execution_count": 1,
   "metadata": {},
   "outputs": [],
   "source": [
    "import sys\n",
    "import random\n",
    "import numpy as np\n",
    "import pandas as pd\n",
    "import matplotlib.pyplot as plt\n",
    "from sklearn import svm\n",
    "from sklearn.model_selection import train_test_split\n",
    "from sklearn.metrics.pairwise import euclidean_distances\n",
    "from sklearn.metrics import accuracy_score\n",
    "from sklearn.metrics import confusion_matrix\n",
    "import seaborn as sns\n",
    "import operator\n",
    "\n",
    "%matplotlib inline"
   ]
  },
  {
   "cell_type": "markdown",
   "metadata": {},
   "source": [
    "### Question 1 (a)"
   ]
  },
  {
   "cell_type": "code",
   "execution_count": 2,
   "metadata": {},
   "outputs": [],
   "source": [
    "np.random.seed(123)"
   ]
  },
  {
   "cell_type": "code",
   "execution_count": 3,
   "metadata": {},
   "outputs": [],
   "source": [
    "m_train = pd.read_csv(\"train.csv\")\n",
    "m_test = pd.read_csv(\"test.csv\")"
   ]
  },
  {
   "cell_type": "code",
   "execution_count": 4,
   "metadata": {},
   "outputs": [
    {
     "data": {
      "text/plain": [
       "42000"
      ]
     },
     "execution_count": 4,
     "metadata": {},
     "output_type": "execute_result"
    }
   ],
   "source": [
    "Y_train = m_train[\"label\"].values\n",
    "len(Y_train)"
   ]
  },
  {
   "cell_type": "code",
   "execution_count": 5,
   "metadata": {},
   "outputs": [
    {
     "data": {
      "text/plain": [
       "42000"
      ]
     },
     "execution_count": 5,
     "metadata": {},
     "output_type": "execute_result"
    }
   ],
   "source": [
    "X_train = m_train.drop(labels = [\"label\"],axis = 1).values\n",
    "len(X_train)"
   ]
  },
  {
   "cell_type": "markdown",
   "metadata": {},
   "source": [
    "### Question 1 (b)"
   ]
  },
  {
   "cell_type": "code",
   "execution_count": 6,
   "metadata": {},
   "outputs": [
    {
     "data": {
      "text/plain": [
       "array([[0, 0, 0, ..., 0, 0, 0],\n",
       "       [0, 0, 0, ..., 0, 0, 0],\n",
       "       [0, 0, 0, ..., 0, 0, 0],\n",
       "       ...,\n",
       "       [0, 0, 0, ..., 0, 0, 0],\n",
       "       [0, 0, 0, ..., 0, 0, 0],\n",
       "       [0, 0, 0, ..., 0, 0, 0]])"
      ]
     },
     "execution_count": 6,
     "metadata": {},
     "output_type": "execute_result"
    }
   ],
   "source": [
    "X_train"
   ]
  },
  {
   "cell_type": "code",
   "execution_count": 7,
   "metadata": {},
   "outputs": [
    {
     "data": {
      "image/png": "[encoded data removed]",
      "text/plain": [
       "<Figure size 432x288 with 10 Axes>"
      ]
     },
     "metadata": {
      "needs_background": "light"
     },
     "output_type": "display_data"
    }
   ],
   "source": [
    "sample_values = m_train.drop_duplicates('label').values\n",
    "fig = plt.figure()\n",
    "for i in range(sample_values.shape[0]):\n",
    "    fig.add_subplot(2, 5, i+1)\n",
    "    plt.imshow(np.array(sample_values[i][1:], dtype='float').reshape((28,28)))"
   ]
  },
  {
   "cell_type": "markdown",
   "metadata": {},
   "source": [
    "### Question 1 (c)"
   ]
  },
  {
   "cell_type": "code",
   "execution_count": 8,
   "metadata": {},
   "outputs": [
    {
     "name": "stdout",
     "output_type": "stream",
     "text": [
      "Prior probability is :\n",
      "[0.09838095 0.11152381 0.09945238 0.10359524 0.09695238 0.09035714\n",
      " 0.0985     0.10478571 0.0967381  0.09971429]\n"
     ]
    },
    {
     "data": {
      "image/png": "[encoded data removed]",
      "text/plain": [
       "<Figure size 432x288 with 1 Axes>"
      ]
     },
     "metadata": {
      "needs_background": "light"
     },
     "output_type": "display_data"
    }
   ],
   "source": [
    "g = sns.countplot(Y_train, color = \"navy\")\n",
    "num_of_bins = np.bincount(m_train['label'])\n",
    "Prior_probability = num_of_bins/np.sum(num_of_bins)\n",
    "print(\"Prior probability is :\")\n",
    "print(Prior_probability)"
   ]
  },
  {
   "cell_type": "markdown",
   "metadata": {},
   "source": [
    "### Question 1 (d)"
   ]
  },
  {
   "cell_type": "markdown",
   "metadata": {},
   "source": [
    "There are erroneous in the matches of 3 and 5."
   ]
  },
  {
   "cell_type": "code",
   "execution_count": 9,
   "metadata": {},
   "outputs": [],
   "source": [
    "def nearest_norm(v1, v2):    \n",
    "    result = [(k, np.sqrt(np.sum((v1-v2[k])**2))) for k in range(len(v2))]\n",
    "    srt = sorted(result, key=lambda x: x[1])\n",
    "    return srt"
   ]
  },
  {
   "cell_type": "code",
   "execution_count": 10,
   "metadata": {},
   "outputs": [],
   "source": [
    "digit_i = []\n",
    "pair = []\n",
    "distance = []\n",
    "for i in range(10):\n",
    "    digit_i.append(list(Y_train).index(i))\n",
    "for a in digit_i:\n",
    "    interm = nearest_norm(X_train[a], X_train)[1]\n",
    "    pair.append(interm[0])\n",
    "    distance.append(interm[1])"
   ]
  },
  {
   "cell_type": "code",
   "execution_count": 11,
   "metadata": {},
   "outputs": [
    {
     "name": "stdout",
     "output_type": "stream",
     "text": [
      "Best match L2 is 1046.5954328201515 which is between 0 and 0\n",
      "Best match L2 is 489.67948701165744 which is between 1 and 1\n",
      "Best match L2 is 1380.877257398354 which is between 2 and 2\n",
      "*Best match L2 is 1832.6649993929605 which is between 3 and 5\n",
      "Best match L2 is 1356.8809822530493 which is between 4 and 4\n",
      "Best match L2 is 1066.3676664265472 which is between 5 and 5\n",
      "Best match L2 is 1446.5113203843239 which is between 6 and 6\n",
      "Best match L2 is 863.5010133172977 which is between 7 and 7\n",
      "Best match L2 is 1593.7775879965184 which is between 8 and 8\n",
      "Best match L2 is 910.5767403135224 which is between 9 and 9\n"
     ]
    },
    {
     "data": {
      "image/png": "[encoded data removed]",
      "text/plain": [
       "<Figure size 432x288 with 2 Axes>"
      ]
     },
     "metadata": {
      "needs_background": "light"
     },
     "output_type": "display_data"
    },
    {
     "data": {
      "image/png": "[encoded data removed]",
      "text/plain": [
       "<Figure size 432x288 with 2 Axes>"
      ]
     },
     "metadata": {
      "needs_background": "light"
     },
     "output_type": "display_data"
    },
    {
     "data": {
      "image/png": "[encoded data removed]",
      "text/plain": [
       "<Figure size 432x288 with 2 Axes>"
      ]
     },
     "metadata": {
      "needs_background": "light"
     },
     "output_type": "display_data"
    },
    {
     "data": {
      "image/png": "[encoded data removed]",
      "text/plain": [
       "<Figure size 432x288 with 2 Axes>"
      ]
     },
     "metadata": {
      "needs_background": "light"
     },
     "output_type": "display_data"
    },
    {
     "data": {
      "image/png": "[encoded data removed]",
      "text/plain": [
       "<Figure size 432x288 with 2 Axes>"
      ]
     },
     "metadata": {
      "needs_background": "light"
     },
     "output_type": "display_data"
    },
    {
     "data": {
      "image/png": "[encoded data removed]",
      "text/plain": [
       "<Figure size 432x288 with 2 Axes>"
      ]
     },
     "metadata": {
      "needs_background": "light"
     },
     "output_type": "display_data"
    },
    {
     "data": {
      "image/png": "[encoded data removed]",
      "text/plain": [
       "<Figure size 432x288 with 2 Axes>"
      ]
     },
     "metadata": {
      "needs_background": "light"
     },
     "output_type": "display_data"
    },
    {
     "data": {
      "image/png": "[encoded data removed]",
      "text/plain": [
       "<Figure size 432x288 with 2 Axes>"
      ]
     },
     "metadata": {
      "needs_background": "light"
     },
     "output_type": "display_data"
    },
    {
     "data": {
      "image/png": "[encoded data removed]",
      "text/plain": [
       "<Figure size 432x288 with 2 Axes>"
      ]
     },
     "metadata": {
      "needs_background": "light"
     },
     "output_type": "display_data"
    },
    {
     "data": {
      "image/png": "[encoded data removed]",
      "text/plain": [
       "<Figure size 432x288 with 2 Axes>"
      ]
     },
     "metadata": {
      "needs_background": "light"
     },
     "output_type": "display_data"
    }
   ],
   "source": [
    "for i, p in enumerate(pair):\n",
    "    fig, axs = plt.subplots(1,2)\n",
    "    axs[0].imshow(X_train[digit_i[i]].reshape(28,28))\n",
    "    axs[1].imshow(X_train[p].reshape(28,28))\n",
    "    if (i != Y_train[p]):\n",
    "        print(\"*Best match L2 is \" + str(distance[i]) + \" which is between \" + str(i) + \" and \" + str(Y_train[p]))\n",
    "    else:\n",
    "        print(\"Best match L2 is \" + str(distance[i]) + \" which is between \" + str(i) + \" and \" + str(Y_train[p]))"
   ]
  },
  {
   "cell_type": "markdown",
   "metadata": {},
   "source": [
    "### Question 1 (e)"
   ]
  },
  {
   "cell_type": "code",
   "execution_count": 12,
   "metadata": {},
   "outputs": [],
   "source": [
    "train_0 = X_train[Y_train == 0]\n",
    "train_1 = X_train[Y_train == 1]\n",
    "\n",
    "gen_0 = euclidean_distances(train_0, train_0).flatten()\n",
    "gen_1 = euclidean_distances(train_1, train_1).flatten()\n",
    "imp = euclidean_distances(train_0, train_1).flatten()\n",
    "gen = np.append(gen_0, gen_1)"
   ]
  },
  {
   "cell_type": "code",
   "execution_count": 13,
   "metadata": {},
   "outputs": [
    {
     "data": {
      "image/png": "[encoded data removed]",
      "text/plain": [
       "<Figure size 432x288 with 1 Axes>"
      ]
     },
     "metadata": {
      "needs_background": "light"
     },
     "output_type": "display_data"
    }
   ],
   "source": [
    "plt.hist(gen, bins=200, histtype='stepfilled', density=True,alpha=0.5)\n",
    "plt.hist(imp[:len(imp)], bins=200, histtype='stepfilled', density=True,alpha=0.5)\n",
    "plt.show()"
   ]
  },
  {
   "cell_type": "markdown",
   "metadata": {},
   "source": [
    "### Question 1 (f)"
   ]
  },
  {
   "cell_type": "markdown",
   "metadata": {},
   "source": [
    "Equal error rate is the rate where false positive equals to false negative, so it is where false positive equals to (1-true postitive),thus it is the dotted line intersected with the ROC curve, with is approximately 0.2. The equal error rate for a randomly guess would be 0.5 since 50% guesses will be right and 50% guesses will be right."
   ]
  },
  {
   "cell_type": "code",
   "execution_count": 14,
   "metadata": {},
   "outputs": [],
   "source": [
    "TPR = []\n",
    "FPR = []\n",
    "\n",
    "steps = int(np.min([np.max(gen), np.max(imp)])/100)\n",
    "for i in range(steps):\n",
    "    thr = 100 * i\n",
    "    idx1 = np.where(gen <= thr)\n",
    "    idx2 = np.where(gen >= thr)\n",
    "    idx3 = np.where(imp <= thr)\n",
    "    idx4 = np.where(imp >= thr)\n",
    "    \n",
    "    tpr = float(len(gen[idx1]))/(len(gen[idx1]) + len(gen[idx2]))\n",
    "    TPR.append(tpr)\n",
    "    fpr = float(len(imp[idx3]))/(len(imp[idx3]) + len(imp[idx4]))\n",
    "    FPR.append(fpr)\n",
    "\n"
   ]
  },
  {
   "cell_type": "code",
   "execution_count": 15,
   "metadata": {},
   "outputs": [
    {
     "data": {
      "image/png": "[encoded data removed]",
      "text/plain": [
       "<Figure size 432x288 with 1 Axes>"
      ]
     },
     "metadata": {
      "needs_background": "light"
     },
     "output_type": "display_data"
    }
   ],
   "source": [
    "plt.plot(FPR, TPR)    \n",
    "plt.xlabel(\"False Positive\")\n",
    "plt.plot([0, 1], [1, 0], 'k--')\n",
    "plt.ylabel(\"True Positive\")  \n",
    "plt.title(\"ROC Curve\")\n",
    "plt.show()"
   ]
  },
  {
   "cell_type": "markdown",
   "metadata": {},
   "source": [
    "### Question 1 (g)"
   ]
  },
  {
   "cell_type": "code",
   "execution_count": 17,
   "metadata": {},
   "outputs": [],
   "source": [
    "def knn(train_x, train_y, test_x, k):\n",
    "    pred = []    \n",
    "    dist = euclidean_distances(test_x, train_x)\n",
    "    for i in dist:        \n",
    "        idx = np.argsort(i)[0:k]\n",
    "        \n",
    "        # get count\n",
    "        count = {}\n",
    "        for j in train_y[idx]:\n",
    "            if j in count: \n",
    "                count[j] += 1\n",
    "            else: \n",
    "                count[j] = 1\n",
    "        result = sorted(count.items(), key=lambda t: t[1], reverse=True)\n",
    "        pred.append(result[0][0])\n",
    "    return pred"
   ]
  },
  {
   "cell_type": "markdown",
   "metadata": {},
   "source": [
    "### Question 1 (h)"
   ]
  },
  {
   "cell_type": "markdown",
   "metadata": {},
   "source": [
    "The best k we found is k = 4."
   ]
  },
  {
   "cell_type": "code",
   "execution_count": 18,
   "metadata": {},
   "outputs": [],
   "source": [
    "train_x, val_x, train_y, val_y = train_test_split(X_train, Y_train, test_size = 0.15, random_state=123)"
   ]
  },
  {
   "cell_type": "code",
   "execution_count": 19,
   "metadata": {},
   "outputs": [],
   "source": [
    "def c_accuracy(label, prediction):\n",
    "    acc = 0\n",
    "    for i in range(len(label)):\n",
    "        if label[i] == prediction[i]:\n",
    "            acc += 1\n",
    "    accuracy = acc / float(len(label)) * 100.0\n",
    "    return accuracy"
   ]
  },
  {
   "cell_type": "code",
   "execution_count": 20,
   "metadata": {},
   "outputs": [
    {
     "name": "stdout",
     "output_type": "stream",
     "text": [
      "when k =  1 , validation set accuracy =  96.77777777777777\n",
      "when k =  2 , validation set accuracy =  96.77777777777777\n",
      "when k =  3 , validation set accuracy =  97.01587301587301\n",
      "when k =  4 , validation set accuracy =  97.07936507936508\n",
      "when k =  5 , validation set accuracy =  96.85714285714285\n",
      "when k =  6 , validation set accuracy =  97.01587301587301\n",
      "when k =  7 , validation set accuracy =  96.84126984126983\n",
      "when k =  8 , validation set accuracy =  96.88888888888889\n",
      "when k =  9 , validation set accuracy =  96.68253968253968\n"
     ]
    }
   ],
   "source": [
    "val_accs = []\n",
    "k_range = range(1, 10)\n",
    "for k in k_range:\n",
    "    predict = knn(train_x, train_y, val_x, k)\n",
    "    accu = c_accuracy(val_y, predict)\n",
    "    print(\"when k = \",str(k),\", validation set accuracy = \",str(accu))\n",
    "    val_accs.append(accu)"
   ]
  },
  {
   "cell_type": "code",
   "execution_count": 21,
   "metadata": {},
   "outputs": [
    {
     "name": "stdout",
     "output_type": "stream",
     "text": [
      "when k =  1 , train set accuracy =  100.0\n",
      "when k =  2 , train set accuracy =  100.0\n",
      "when k =  3 , train set accuracy =  98.57703081232494\n",
      "when k =  4 , train set accuracy =  98.75070028011204\n",
      "when k =  5 , train set accuracy =  98.04761904761905\n",
      "when k =  6 , train set accuracy =  98.19607843137254\n",
      "when k =  7 , train set accuracy =  97.70028011204481\n",
      "when k =  8 , train set accuracy =  97.80952380952381\n",
      "when k =  9 , train set accuracy =  97.42857142857143\n"
     ]
    }
   ],
   "source": [
    "train_accs = []\n",
    "k_range = range(1, 10)\n",
    "for k in k_range:\n",
    "    predict = knn(train_x, train_y, train_x, k)\n",
    "    accu = c_accuracy(train_y, predict)\n",
    "    print(\"when k = \",str(k),\", train set accuracy = \",str(accu))\n",
    "    train_accs.append(accu)"
   ]
  },
  {
   "cell_type": "markdown",
   "metadata": {},
   "source": [
    "### Question 1 (i)"
   ]
  },
  {
   "cell_type": "markdown",
   "metadata": {},
   "source": [
    "The most tricky digit is 8."
   ]
  },
  {
   "cell_type": "code",
   "execution_count": 22,
   "metadata": {},
   "outputs": [
    {
     "name": "stdout",
     "output_type": "stream",
     "text": [
      "The Confusion matrix is \n",
      "[[593   0   0   0   0   1   3   1   0   0]\n",
      " [  0 715   0   1   0   0   1   2   1   0]\n",
      " [  4   6 609   0   0   1   0   8   4   3]\n",
      " [  0   0   3 633   0   6   0   4   4   1]\n",
      " [  0   7   0   0 572   0   3   2   1   9]\n",
      " [  1   2   0   5   0 561   4   0   4   3]\n",
      " [  3   0   0   0   0   1 644   0   0   0]\n",
      " [  1   5   2   0   1   0   0 613   0   6]\n",
      " [  4   9   1   9   0  11   2   2 571   5]\n",
      " [  2   0   0   2  13   1   1   7   1 605]]\n"
     ]
    }
   ],
   "source": [
    "prediction = knn(train_x, train_y, val_x, 4)\n",
    "confusion_m = confusion_matrix(val_y, prediction)\n",
    "print(\"The Confusion matrix is \")\n",
    "print(confusion_m)"
   ]
  },
  {
   "cell_type": "code",
   "execution_count": 23,
   "metadata": {},
   "outputs": [
    {
     "name": "stdout",
     "output_type": "stream",
     "text": [
      "The Most tricky digit is:  8\n"
     ]
    }
   ],
   "source": [
    "diag = []\n",
    "for i in range(len(confusion_m)):\n",
    "    diag.append(float(confusion_m[i][i]))\n",
    "diag = np.array(diag)\n",
    "\n",
    "tricky_label = np.argsort(diag / np.sum(confusion_m, axis=1))\n",
    "print(\"The Most tricky digit is: \",str(tricky_label[0]))"
   ]
  },
  {
   "cell_type": "markdown",
   "metadata": {},
   "source": [
    "### Question 1 (j)"
   ]
  },
  {
   "cell_type": "markdown",
   "metadata": {},
   "source": [
    "Results already submitted to Kaggle."
   ]
  },
  {
   "cell_type": "code",
   "execution_count": 24,
   "metadata": {},
   "outputs": [],
   "source": [
    "#Final Output\n",
    "prediction = knn(X_train, Y_train, m_test, 4)"
   ]
  },
  {
   "cell_type": "code",
   "execution_count": 25,
   "metadata": {},
   "outputs": [],
   "source": [
    "def results_to_csv(y_test):\n",
    "    df = pd.DataFrame({'Label': y_test})\n",
    "    df.index += 1  # Ensures that the index starts at 1. \n",
    "    df.to_csv('submission.csv', index_label='ImageId')"
   ]
  },
  {
   "cell_type": "code",
   "execution_count": 26,
   "metadata": {},
   "outputs": [],
   "source": [
    "results_to_csv(prediction)\n"
   ]
  },
  {
   "cell_type": "code",
   "execution_count": 27,
   "metadata": {},
   "outputs": [
    {
     "data": {
      "text/plain": [
       "[2,\n",
       " 0,\n",
       " 9,\n",
       " 9,\n",
       " 3,\n",
       " 7,\n",
       " 0,\n",
       " 3,\n",
       " 0,\n",
       " 3,\n",
       " 5,\n",
       " 7,\n",
       " 4,\n",
       " 0,\n",
       " 4,\n",
       " 3,\n",
       " 3,\n",
       " 1,\n",
       " 9,\n",
       " 0,\n",
       " 9,\n",
       " 1,\n",
       " 1,\n",
       " 5,\n",
       " 7,\n",
       " 4,\n",
       " 2,\n",
       " 7,\n",
       " 4,\n",
       " 7,\n",
       " 7,\n",
       " 5,\n",
       " 4,\n",
       " 2,\n",
       " 6,\n",
       " 2,\n",
       " 5,\n",
       " 5,\n",
       " 1,\n",
       " 6,\n",
       " 7,\n",
       " 7,\n",
       " 4,\n",
       " 9,\n",
       " 8,\n",
       " 7,\n",
       " 8,\n",
       " 2,\n",
       " 6,\n",
       " 7,\n",
       " 6,\n",
       " 8,\n",
       " 8,\n",
       " 3,\n",
       " 8,\n",
       " 2,\n",
       " 1,\n",
       " 2,\n",
       " 2,\n",
       " 0,\n",
       " 4,\n",
       " 1,\n",
       " 7,\n",
       " 0,\n",
       " 0,\n",
       " 0,\n",
       " 1,\n",
       " 9,\n",
       " 0,\n",
       " 1,\n",
       " 6,\n",
       " 5,\n",
       " 8,\n",
       " 8,\n",
       " 2,\n",
       " 8,\n",
       " 8,\n",
       " 9,\n",
       " 2,\n",
       " 3,\n",
       " 5,\n",
       " 4,\n",
       " 1,\n",
       " 0,\n",
       " 9,\n",
       " 2,\n",
       " 4,\n",
       " 3,\n",
       " 6,\n",
       " 7,\n",
       " 2,\n",
       " 0,\n",
       " 6,\n",
       " 6,\n",
       " 1,\n",
       " 4,\n",
       " 3,\n",
       " 9,\n",
       " 7,\n",
       " 4,\n",
       " 0,\n",
       " 9,\n",
       " 2,\n",
       " 0,\n",
       " 7,\n",
       " 3,\n",
       " 0,\n",
       " 5,\n",
       " 0,\n",
       " 8,\n",
       " 0,\n",
       " 0,\n",
       " 4,\n",
       " 7,\n",
       " 1,\n",
       " 7,\n",
       " 1,\n",
       " 1,\n",
       " 3,\n",
       " 3,\n",
       " 3,\n",
       " 7,\n",
       " 2,\n",
       " 8,\n",
       " 6,\n",
       " 3,\n",
       " 8,\n",
       " 7,\n",
       " 8,\n",
       " 4,\n",
       " 3,\n",
       " 5,\n",
       " 6,\n",
       " 0,\n",
       " 0,\n",
       " 0,\n",
       " 3,\n",
       " 1,\n",
       " 3,\n",
       " 6,\n",
       " 4,\n",
       " 3,\n",
       " 4,\n",
       " 5,\n",
       " 5,\n",
       " 8,\n",
       " 7,\n",
       " 7,\n",
       " 2,\n",
       " 8,\n",
       " 4,\n",
       " 3,\n",
       " 5,\n",
       " 6,\n",
       " 5,\n",
       " 3,\n",
       " 7,\n",
       " 5,\n",
       " 7,\n",
       " 8,\n",
       " 3,\n",
       " 0,\n",
       " 4,\n",
       " 5,\n",
       " 1,\n",
       " 2,\n",
       " 7,\n",
       " 6,\n",
       " 3,\n",
       " 0,\n",
       " 2,\n",
       " 7,\n",
       " 8,\n",
       " 6,\n",
       " 1,\n",
       " 3,\n",
       " 7,\n",
       " 4,\n",
       " 1,\n",
       " 2,\n",
       " 4,\n",
       " 8,\n",
       " 5,\n",
       " 2,\n",
       " 4,\n",
       " 9,\n",
       " 2,\n",
       " 1,\n",
       " 6,\n",
       " 0,\n",
       " 6,\n",
       " 1,\n",
       " 4,\n",
       " 9,\n",
       " 6,\n",
       " 0,\n",
       " 9,\n",
       " 7,\n",
       " 6,\n",
       " 9,\n",
       " 1,\n",
       " 9,\n",
       " 0,\n",
       " 9,\n",
       " 9,\n",
       " 0,\n",
       " 8,\n",
       " 4,\n",
       " 6,\n",
       " 2,\n",
       " 0,\n",
       " 9,\n",
       " 3,\n",
       " 6,\n",
       " 7,\n",
       " 2,\n",
       " 1,\n",
       " 6,\n",
       " 3,\n",
       " 4,\n",
       " 2,\n",
       " 3,\n",
       " 1,\n",
       " 0,\n",
       " 2,\n",
       " 0,\n",
       " 4,\n",
       " 6,\n",
       " 1,\n",
       " 0,\n",
       " 0,\n",
       " 4,\n",
       " 9,\n",
       " 1,\n",
       " 7,\n",
       " 3,\n",
       " 2,\n",
       " 3,\n",
       " 8,\n",
       " 6,\n",
       " 8,\n",
       " 6,\n",
       " 2,\n",
       " 8,\n",
       " 5,\n",
       " 5,\n",
       " 9,\n",
       " 8,\n",
       " 3,\n",
       " 5,\n",
       " 9,\n",
       " 7,\n",
       " 1,\n",
       " 3,\n",
       " 8,\n",
       " 4,\n",
       " 5,\n",
       " 1,\n",
       " 4,\n",
       " 5,\n",
       " 6,\n",
       " 3,\n",
       " 3,\n",
       " 5,\n",
       " 7,\n",
       " 0,\n",
       " 6,\n",
       " 8,\n",
       " 3,\n",
       " 1,\n",
       " 6,\n",
       " 0,\n",
       " 6,\n",
       " 3,\n",
       " 9,\n",
       " 5,\n",
       " 1,\n",
       " 5,\n",
       " 8,\n",
       " 4,\n",
       " 0,\n",
       " 9,\n",
       " 2,\n",
       " 0,\n",
       " 5,\n",
       " 3,\n",
       " 7,\n",
       " 1,\n",
       " 9,\n",
       " 9,\n",
       " 5,\n",
       " 7,\n",
       " 7,\n",
       " 9,\n",
       " 9,\n",
       " 6,\n",
       " 3,\n",
       " 0,\n",
       " 3,\n",
       " 3,\n",
       " 6,\n",
       " 9,\n",
       " 8,\n",
       " 2,\n",
       " 6,\n",
       " 2,\n",
       " 7,\n",
       " 1,\n",
       " 4,\n",
       " 5,\n",
       " 8,\n",
       " 5,\n",
       " 9,\n",
       " 0,\n",
       " 0,\n",
       " 3,\n",
       " 8,\n",
       " 4,\n",
       " 1,\n",
       " 8,\n",
       " 4,\n",
       " 1,\n",
       " 1,\n",
       " 9,\n",
       " 8,\n",
       " 4,\n",
       " 5,\n",
       " 1,\n",
       " 5,\n",
       " 3,\n",
       " 6,\n",
       " 3,\n",
       " 1,\n",
       " 3,\n",
       " 0,\n",
       " 9,\n",
       " 0,\n",
       " 0,\n",
       " 6,\n",
       " 0,\n",
       " 6,\n",
       " 3,\n",
       " 1,\n",
       " 8,\n",
       " 6,\n",
       " 0,\n",
       " 6,\n",
       " 5,\n",
       " 2,\n",
       " 2,\n",
       " 6,\n",
       " 7,\n",
       " 7,\n",
       " 2,\n",
       " 5,\n",
       " 8,\n",
       " 3,\n",
       " 9,\n",
       " 2,\n",
       " 7,\n",
       " 8,\n",
       " 6,\n",
       " 3,\n",
       " 8,\n",
       " 4,\n",
       " 2,\n",
       " 3,\n",
       " 8,\n",
       " 1,\n",
       " 6,\n",
       " 4,\n",
       " 8,\n",
       " 7,\n",
       " 9,\n",
       " 7,\n",
       " 6,\n",
       " 9,\n",
       " 5,\n",
       " 3,\n",
       " 7,\n",
       " 6,\n",
       " 5,\n",
       " 5,\n",
       " 4,\n",
       " 2,\n",
       " 6,\n",
       " 2,\n",
       " 1,\n",
       " 3,\n",
       " 7,\n",
       " 1,\n",
       " 7,\n",
       " 9,\n",
       " 9,\n",
       " 6,\n",
       " 1,\n",
       " 1,\n",
       " 1,\n",
       " 7,\n",
       " 3,\n",
       " 9,\n",
       " 7,\n",
       " 6,\n",
       " 1,\n",
       " 1,\n",
       " 1,\n",
       " 9,\n",
       " 3,\n",
       " 8,\n",
       " 5,\n",
       " 5,\n",
       " 0,\n",
       " 4,\n",
       " 1,\n",
       " 2,\n",
       " 3,\n",
       " 1,\n",
       " 1,\n",
       " 3,\n",
       " 5,\n",
       " 9,\n",
       " 6,\n",
       " 6,\n",
       " 5,\n",
       " 3,\n",
       " 1,\n",
       " 4,\n",
       " 7,\n",
       " 4,\n",
       " 7,\n",
       " 4,\n",
       " 8,\n",
       " 5,\n",
       " 2,\n",
       " 6,\n",
       " 1,\n",
       " 3,\n",
       " 9,\n",
       " 5,\n",
       " 0,\n",
       " 8,\n",
       " 4,\n",
       " 7,\n",
       " 4,\n",
       " 4,\n",
       " 4,\n",
       " 1,\n",
       " 5,\n",
       " 3,\n",
       " 9,\n",
       " 9,\n",
       " 7,\n",
       " 6,\n",
       " 9,\n",
       " 5,\n",
       " 9,\n",
       " 2,\n",
       " 3,\n",
       " 5,\n",
       " 6,\n",
       " 1,\n",
       " 7,\n",
       " 5,\n",
       " 0,\n",
       " 5,\n",
       " 1,\n",
       " 7,\n",
       " 4,\n",
       " 4,\n",
       " 1,\n",
       " 1,\n",
       " 4,\n",
       " 9,\n",
       " 5,\n",
       " 6,\n",
       " 0,\n",
       " 1,\n",
       " 3,\n",
       " 1,\n",
       " 0,\n",
       " 4,\n",
       " 8,\n",
       " 1,\n",
       " 2,\n",
       " 7,\n",
       " 9,\n",
       " 4,\n",
       " 8,\n",
       " 3,\n",
       " 7,\n",
       " 7,\n",
       " 4,\n",
       " 2,\n",
       " 4,\n",
       " 2,\n",
       " 7,\n",
       " 6,\n",
       " 3,\n",
       " 2,\n",
       " 0,\n",
       " 6,\n",
       " 5,\n",
       " 9,\n",
       " 4,\n",
       " 1,\n",
       " 8,\n",
       " 3,\n",
       " 3,\n",
       " 0,\n",
       " 2,\n",
       " 7,\n",
       " 6,\n",
       " 8,\n",
       " 7,\n",
       " 5,\n",
       " 3,\n",
       " 5,\n",
       " 7,\n",
       " 4,\n",
       " 3,\n",
       " 6,\n",
       " 9,\n",
       " 0,\n",
       " 7,\n",
       " 7,\n",
       " 1,\n",
       " 0,\n",
       " 1,\n",
       " 1,\n",
       " 7,\n",
       " 0,\n",
       " 5,\n",
       " 3,\n",
       " 8,\n",
       " 3,\n",
       " 5,\n",
       " 6,\n",
       " 5,\n",
       " 7,\n",
       " 3,\n",
       " 0,\n",
       " 2,\n",
       " 8,\n",
       " 2,\n",
       " 0,\n",
       " 3,\n",
       " 0,\n",
       " 9,\n",
       " 2,\n",
       " 1,\n",
       " 1,\n",
       " 3,\n",
       " 0,\n",
       " 5,\n",
       " 0,\n",
       " 0,\n",
       " 7,\n",
       " 5,\n",
       " 6,\n",
       " 2,\n",
       " 0,\n",
       " 3,\n",
       " 8,\n",
       " 1,\n",
       " 6,\n",
       " 5,\n",
       " 4,\n",
       " 1,\n",
       " 1,\n",
       " 4,\n",
       " 6,\n",
       " 5,\n",
       " 3,\n",
       " 6,\n",
       " 0,\n",
       " 4,\n",
       " 8,\n",
       " 2,\n",
       " 4,\n",
       " 2,\n",
       " 5,\n",
       " 1,\n",
       " 7,\n",
       " 6,\n",
       " 9,\n",
       " 1,\n",
       " 7,\n",
       " 3,\n",
       " 8,\n",
       " 0,\n",
       " 8,\n",
       " 8,\n",
       " 4,\n",
       " 5,\n",
       " 3,\n",
       " 6,\n",
       " 6,\n",
       " 6,\n",
       " 0,\n",
       " 3,\n",
       " 5,\n",
       " 1,\n",
       " 7,\n",
       " 1,\n",
       " 6,\n",
       " 2,\n",
       " 8,\n",
       " 5,\n",
       " 6,\n",
       " 4,\n",
       " 7,\n",
       " 4,\n",
       " 3,\n",
       " 3,\n",
       " 2,\n",
       " 4,\n",
       " 7,\n",
       " 0,\n",
       " 0,\n",
       " 9,\n",
       " 8,\n",
       " 5,\n",
       " 9,\n",
       " 4,\n",
       " 0,\n",
       " 8,\n",
       " 1,\n",
       " 3,\n",
       " 6,\n",
       " 2,\n",
       " 6,\n",
       " 1,\n",
       " 8,\n",
       " 6,\n",
       " 1,\n",
       " 4,\n",
       " 7,\n",
       " 7,\n",
       " 8,\n",
       " 3,\n",
       " 0,\n",
       " 9,\n",
       " 9,\n",
       " 6,\n",
       " 7,\n",
       " 7,\n",
       " 4,\n",
       " 8,\n",
       " 1,\n",
       " 8,\n",
       " 4,\n",
       " 8,\n",
       " 0,\n",
       " 7,\n",
       " 8,\n",
       " 2,\n",
       " 4,\n",
       " 3,\n",
       " 3,\n",
       " 7,\n",
       " 2,\n",
       " 3,\n",
       " 4,\n",
       " 0,\n",
       " 4,\n",
       " 8,\n",
       " 1,\n",
       " 3,\n",
       " 3,\n",
       " 6,\n",
       " 3,\n",
       " 9,\n",
       " 4,\n",
       " 3,\n",
       " 8,\n",
       " 7,\n",
       " 7,\n",
       " 2,\n",
       " 6,\n",
       " 0,\n",
       " 6,\n",
       " 9,\n",
       " 8,\n",
       " 1,\n",
       " 1,\n",
       " 3,\n",
       " 4,\n",
       " 6,\n",
       " 9,\n",
       " 9,\n",
       " 2,\n",
       " 6,\n",
       " 0,\n",
       " 1,\n",
       " 8,\n",
       " 4,\n",
       " 3,\n",
       " 9,\n",
       " 8,\n",
       " 8,\n",
       " 4,\n",
       " 0,\n",
       " 5,\n",
       " 0,\n",
       " 6,\n",
       " 0,\n",
       " 4,\n",
       " 4,\n",
       " 6,\n",
       " 5,\n",
       " 1,\n",
       " 8,\n",
       " 1,\n",
       " 5,\n",
       " 3,\n",
       " 6,\n",
       " 2,\n",
       " 3,\n",
       " 7,\n",
       " 8,\n",
       " 9,\n",
       " 3,\n",
       " 1,\n",
       " 0,\n",
       " 1,\n",
       " 0,\n",
       " 6,\n",
       " 4,\n",
       " 7,\n",
       " 5,\n",
       " 7,\n",
       " 1,\n",
       " 3,\n",
       " 2,\n",
       " 7,\n",
       " 7,\n",
       " 1,\n",
       " 5,\n",
       " 1,\n",
       " 5,\n",
       " 4,\n",
       " 4,\n",
       " 3,\n",
       " 4,\n",
       " 3,\n",
       " 9,\n",
       " 0,\n",
       " 7,\n",
       " 8,\n",
       " 6,\n",
       " 4,\n",
       " 9,\n",
       " 4,\n",
       " 4,\n",
       " 1,\n",
       " 4,\n",
       " 7,\n",
       " 1,\n",
       " 1,\n",
       " 8,\n",
       " 7,\n",
       " 0,\n",
       " 4,\n",
       " 0,\n",
       " 4,\n",
       " 0,\n",
       " 0,\n",
       " 5,\n",
       " 1,\n",
       " 8,\n",
       " 6,\n",
       " 5,\n",
       " 0,\n",
       " 1,\n",
       " 5,\n",
       " 3,\n",
       " 4,\n",
       " 6,\n",
       " 3,\n",
       " 1,\n",
       " 1,\n",
       " 6,\n",
       " 9,\n",
       " 8,\n",
       " 3,\n",
       " 5,\n",
       " 5,\n",
       " 4,\n",
       " 8,\n",
       " 8,\n",
       " 5,\n",
       " 0,\n",
       " 4,\n",
       " 0,\n",
       " 4,\n",
       " 3,\n",
       " 1,\n",
       " 6,\n",
       " 9,\n",
       " 9,\n",
       " 1,\n",
       " 1,\n",
       " 3,\n",
       " 3,\n",
       " 1,\n",
       " 4,\n",
       " 9,\n",
       " 6,\n",
       " 9,\n",
       " 1,\n",
       " 5,\n",
       " 4,\n",
       " 2,\n",
       " 3,\n",
       " 2,\n",
       " 4,\n",
       " 0,\n",
       " 9,\n",
       " 7,\n",
       " 4,\n",
       " 3,\n",
       " 0,\n",
       " 5,\n",
       " 0,\n",
       " 1,\n",
       " 9,\n",
       " 0,\n",
       " 4,\n",
       " 5,\n",
       " 2,\n",
       " 8,\n",
       " 0,\n",
       " 5,\n",
       " 9,\n",
       " 3,\n",
       " 9,\n",
       " 6,\n",
       " 1,\n",
       " 5,\n",
       " 5,\n",
       " 1,\n",
       " 9,\n",
       " 0,\n",
       " 8,\n",
       " 4,\n",
       " 6,\n",
       " 7,\n",
       " 2,\n",
       " 8,\n",
       " 5,\n",
       " 8,\n",
       " 9,\n",
       " 7,\n",
       " 7,\n",
       " 2,\n",
       " 8,\n",
       " 1,\n",
       " 3,\n",
       " 4,\n",
       " 5,\n",
       " 0,\n",
       " 4,\n",
       " 1,\n",
       " 4,\n",
       " 2,\n",
       " 3,\n",
       " 6,\n",
       " 9,\n",
       " 2,\n",
       " 3,\n",
       " 4,\n",
       " 5,\n",
       " 4,\n",
       " 2,\n",
       " 3,\n",
       " 5,\n",
       " 1,\n",
       " 1,\n",
       " 0,\n",
       " 1,\n",
       " 4,\n",
       " 9,\n",
       " 1,\n",
       " 1,\n",
       " 2,\n",
       " 7,\n",
       " 1,\n",
       " 5,\n",
       " 4,\n",
       " 9,\n",
       " 1,\n",
       " 7,\n",
       " 6,\n",
       " 0,\n",
       " 4,\n",
       " 2,\n",
       " 9,\n",
       " 4,\n",
       " 1,\n",
       " 1,\n",
       " 5,\n",
       " 3,\n",
       " 5,\n",
       " 7,\n",
       " 4,\n",
       " 7,\n",
       " 8,\n",
       " 3,\n",
       " 2,\n",
       " 7,\n",
       " 2,\n",
       " 0,\n",
       " 4,\n",
       " 7,\n",
       " 1,\n",
       " 6,\n",
       " 4,\n",
       " 6,\n",
       " 1,\n",
       " 5,\n",
       " 7,\n",
       " 3,\n",
       " 5,\n",
       " 9,\n",
       " 4,\n",
       " 7,\n",
       " 9,\n",
       " 6,\n",
       " 6,\n",
       " 3,\n",
       " 3,\n",
       " 2,\n",
       " 1,\n",
       " 4,\n",
       " 5,\n",
       " 3,\n",
       " 7,\n",
       " 7,\n",
       " 9,\n",
       " 5,\n",
       " 6,\n",
       " 2,\n",
       " 6,\n",
       " 1,\n",
       " 0,\n",
       " 9,\n",
       " 3,\n",
       " 2,\n",
       " 9,\n",
       " 2,\n",
       " 6,\n",
       " 7,\n",
       " 5,\n",
       " 2,\n",
       " 3,\n",
       " 2,\n",
       " 8,\n",
       " 3,\n",
       " 0,\n",
       " 2,\n",
       " 7,\n",
       " 9,\n",
       " 4,\n",
       " 0,\n",
       " 9,\n",
       " 5,\n",
       " 1,\n",
       " 8,\n",
       " 8,\n",
       " 5,\n",
       " 3,\n",
       " 2,\n",
       " 9,\n",
       " 6,\n",
       " 7,\n",
       " 0,\n",
       " 8,\n",
       " 0,\n",
       " 7,\n",
       " 4,\n",
       " 5,\n",
       " 8,\n",
       " 7,\n",
       " 9,\n",
       " 7,\n",
       " 7,\n",
       " 0,\n",
       " 5,\n",
       " 3,\n",
       " 2,\n",
       " 1,\n",
       " 9,\n",
       " 0,\n",
       " 6,\n",
       " 8,\n",
       " 3,\n",
       " 6,\n",
       " 2,\n",
       " 2,\n",
       " 9,\n",
       " ...]"
      ]
     },
     "execution_count": 27,
     "metadata": {},
     "output_type": "execute_result"
    }
   ],
   "source": [
    "prediction"
   ]
  }
 ],
 "metadata": {
  "kernelspec": {
   "display_name": "Python 3",
   "language": "python",
   "name": "python3"
  },
  "language_info": {
   "codemirror_mode": {
    "name": "ipython",
    "version": 3
   },
   "file_extension": ".py",
   "mimetype": "text/x-python",
   "name": "python",
   "nbconvert_exporter": "python",
   "pygments_lexer": "ipython3",
   "version": "3.7.4"
  }
 },
 "nbformat": 4,
 "nbformat_minor": 4
}
